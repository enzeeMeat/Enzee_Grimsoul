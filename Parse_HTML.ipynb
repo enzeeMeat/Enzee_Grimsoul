{
 "cells": [
  {
   "cell_type": "code",
   "execution_count": 28,
   "metadata": {},
   "outputs": [
    {
     "name": "stdout",
     "output_type": "stream",
     "text": [
      "Requirement already satisfied: requests==2.22.0 in c:\\programdata\\anaconda3\\lib\\site-packages (2.22.0)\n",
      "Collecting beautifulsoup4==4.8.1\n",
      "  Downloading https://files.pythonhosted.org/packages/3b/c8/a55eb6ea11cd7e5ac4bacdf92bac4693b90d3ba79268be16527555e186f0/beautifulsoup4-4.8.1-py3-none-any.whl (101kB)\n",
      "Requirement already satisfied: chardet<3.1.0,>=3.0.2 in c:\\programdata\\anaconda3\\lib\\site-packages (from requests==2.22.0) (3.0.4)\n",
      "Requirement already satisfied: certifi>=2017.4.17 in c:\\programdata\\anaconda3\\lib\\site-packages (from requests==2.22.0) (2020.12.5)\n",
      "Requirement already satisfied: idna<2.9,>=2.5 in c:\\programdata\\anaconda3\\lib\\site-packages (from requests==2.22.0) (2.8)\n",
      "Requirement already satisfied: urllib3!=1.25.0,!=1.25.1,<1.26,>=1.21.1 in c:\\programdata\\anaconda3\\lib\\site-packages (from requests==2.22.0) (1.24.2)\n",
      "Requirement already satisfied: soupsieve>=1.2 in c:\\programdata\\anaconda3\\lib\\site-packages (from beautifulsoup4==4.8.1) (1.9.3)\n",
      "Installing collected packages: beautifulsoup4\n",
      "  Found existing installation: beautifulsoup4 4.8.0\n",
      "    Uninstalling beautifulsoup4-4.8.0:\n",
      "      Successfully uninstalled beautifulsoup4-4.8.0\n",
      "Successfully installed beautifulsoup4-4.8.1\n",
      "Note: you may need to restart the kernel to use updated packages.\n"
     ]
    }
   ],
   "source": [
    "pip install requests==2.22.0 beautifulsoup4==4.8.1"
   ]
  },
  {
   "cell_type": "code",
   "execution_count": 1,
   "metadata": {},
   "outputs": [],
   "source": [
    "from lxml import html\n",
    "import requests"
   ]
  },
  {
   "cell_type": "code",
   "execution_count": 12,
   "metadata": {
    "scrolled": true
   },
   "outputs": [],
   "source": [
    "##page = requests.get('DO_DUMP.html')'\n",
    "with open(r'DO_DUMP.html', \"r\", encoding='utf-8') as f:\n",
    "    page = f.read()\n",
    "tree = html.fromstring(page)"
   ]
  },
  {
   "cell_type": "code",
   "execution_count": 47,
   "metadata": {},
   "outputs": [
    {
     "name": "stdout",
     "output_type": "stream",
     "text": [
      "Blacknium\n"
     ]
    }
   ],
   "source": [
    "## Testing\n",
    "import re\n",
    "test ='<span class=\"chatlog__author-name\" title=\"Blacknium#7206\" data-user-id=\"415234448536109056\" style=\"color: rgb(4,129,170)\">Blacknium</span>'\n",
    "##title_search = re.search('(<span class=\\\"chatlog__author-name\\\" title=\\\".*\\>)(.*)(<\\/span)', html, re.IGNORECASE)\n",
    "\n",
    "title_search = re.search(r'(<span class=\\\"chatlog__author-name\\\" title=\\\".*\\>)(.*)(<\\/span)', test, re.IGNORECASE)\n",
    "if title_search:\n",
    "    title = title_search.group(2)\n",
    "    print(title)\n",
    "    \n",
    "att_search = re.search(r'(<img class=\\\"chatlog__attachment-thumbnail\\\" src=\")(.*)(\" alt.*)', test, re.IGNORECASE)\n",
    "\n",
    "if att_search:\n",
    "    title = att_search.group(2)\n",
    "    print(title)\n",
    "\n",
    "dt_search =  re.search(r'(<span class=\"chatlog__timestamp\">)(.*)(<.*)', line, re.IGNORECASE)\n",
    "if dt_search:\n",
    "    dt = dt_search.group(2)\n",
    "    print(dt)\n",
    "\n",
    "    "
   ]
  },
  {
   "cell_type": "code",
   "execution_count": 75,
   "metadata": {},
   "outputs": [],
   "source": [
    "import re\n",
    "\n",
    "with open(r'DO_DUMP.html', \"r\", encoding='ascii', errors='ignore') as f:\n",
    "    for line in f:\n",
    "\n",
    "        auth_search = re.search(r'(<span class=\\\"chatlog__author-name\\\" title=\\\".*\\>)(.*)(<\\/span)', line, re.IGNORECASE)\n",
    "        if auth_search:\n",
    "            auth = auth_search.group(2)\n",
    "            #print(auth)\n",
    "            k = open(\"out.txt\", \"a\")\n",
    "            k.write(\"|\"+auth + \"\\r\")\n",
    "            k.close()\n",
    "            \n",
    "        dt_search = re.search(r'(<span class=\"chatlog__timestamp\">)(.*)(<.*)', line, re.IGNORECASE)\n",
    "        if dt_search:\n",
    "            dt = dt_search.group(2)\n",
    "            #print(dt)\n",
    "            k = open(\"out.txt\", \"a\")\n",
    "            k.write(dt + \"\\r\")\n",
    "            k.close()\n",
    "\n",
    "            \n",
    "        att_search = re.search(r'(<img class=\\\"chatlog__attachment-thumbnail\\\" src=\")(.*)(\" alt.*)', line, re.IGNORECASE)\n",
    "\n",
    "        if att_search:\n",
    "            att = att_search.group(2)\n",
    "            #print(att)\n",
    "            k = open(\"out.txt\", \"a\")\n",
    "            k.write(att + \"\\r\")\n",
    "            k.close()\n"
   ]
  },
  {
   "cell_type": "code",
   "execution_count": 76,
   "metadata": {},
   "outputs": [
    {
     "name": "stdout",
     "output_type": "stream",
     "text": [
      "Invalid URL '-f': No schema supplied. Perhaps you meant http://-f?\n"
     ]
    }
   ],
   "source": [
    "# Importing Required Modules\n",
    "import sys\n",
    "import requests\n",
    "from PIL import Image\n",
    "\n",
    "# Exception Handling for invalid requests\n",
    "try:\n",
    "        # Creating an request object to store the response\n",
    "        # The URL is refrenced sys.argv[1]\n",
    "  ImgRequest = requests.get(sys.argv[1])\n",
    "\n",
    "        # Verifying whether the specified URL exist or not\n",
    "  if ImgRequest.status_code == requests.codes.ok:\n",
    "\n",
    "                # Opening a file to write bytes from response content\n",
    "                # Storing this onject as an image file on the hard drive\n",
    "    img = open(\"https://cdn.discordapp.com/attachments/677197132968755207/685217851967406086/Screenshot_20200305-220730.png\",\"wb\")\n",
    "    img.write(ImgRequest.content)\n",
    "    img.close()\n",
    "\n",
    "                # Opening Inage file using PIL Image\n",
    "    img = Image.open(\"https://cdn.discordapp.com/attachments/677197132968755207/685217851967406086/Screenshot_20200305-220730.png\")\n",
    "    img.show()\n",
    "  else:\n",
    "    print(ImgRequest.status_code)\n",
    "\n",
    "except Exception as e:\n",
    "  print(str(e))"
   ]
  },
  {
   "cell_type": "code",
   "execution_count": 118,
   "metadata": {},
   "outputs": [
    {
     "name": "stdout",
     "output_type": "stream",
     "text": [
      "\f",
      "\n"
     ]
    }
   ],
   "source": [
    "from PIL import Image\n",
    "import requests\n",
    "from io import BytesIO\n",
    "\n",
    "#test\n",
    "#response = requests.get(\"https://cdn.discordapp.com/attachments/677197132968755207/685217851967406086/Screenshot_20200305-220730.png\")\n",
    "\n",
    "response = requests.get(\"https://cdn.discordapp.com/attachments/677197132968755207/677198291586252919/Screenshot_20200212-180159_Video_Player.jpg\")\n",
    "\n",
    "img = Image.open(BytesIO(response.content))\n",
    "\n",
    "im2_crop = img.crop((1000, 90, 1750, 775))\n",
    "im2_crop.save('test_crop.png', quality=95)\n",
    "\n",
    "im2 = Image.open('test_crop.png')\n",
    "im2.show\n",
    "print(pytesseract.image_to_string(im2))\n",
    "\n"
   ]
  },
  {
   "cell_type": "code",
   "execution_count": 119,
   "metadata": {},
   "outputs": [
    {
     "name": "stdout",
     "output_type": "stream",
     "text": [
      "\f",
      "\n"
     ]
    }
   ],
   "source": [
    "from PIL import Image\n",
    "import requests\n",
    "from io import BytesIO\n",
    "\n",
    "\n",
    "#pytesseract.pytesseract.tesseract_cmd = r'C:\\Program Files\\Tesseract-OCR\\tesseract.exe'\n",
    "\n",
    "\n",
    "#test\n",
    "#response = requests.get(\"https://cdn.discordapp.com/attachments/677197132968755207/685217851967406086/Screenshot_20200305-220730.png\")\n",
    "\n",
    "response = requests.get(\"https://cdn.discordapp.com/attachments/677197132968755207/677198291900956672/Screenshot_20200212-180205_Video_Player.jpg\")\n",
    "\n",
    "img = Image.open(BytesIO(response.content))\n",
    "\n",
    "im2_crop = img.crop((1000, 90, 1750, 775))\n",
    "im2_crop.save('test_crop2.png', quality=95)\n",
    "\n",
    "im2 = Image.open('test_crop2.png')\n",
    "im2.show\n",
    "\n",
    "print(pytesseract.image_to_string(im2))\n"
   ]
  },
  {
   "cell_type": "code",
   "execution_count": 112,
   "metadata": {},
   "outputs": [],
   "source": [
    "def ocr_core(filename):\n",
    "    \n",
    "    pytesseract.pytesseract.tesseract_cmd = r'C:\\Program Files\\Tesseract-OCR\\tesseract.exe'\n",
    "    \"\"\"\n",
    "    This function will handle the core OCR processing of images.\n",
    "    \n",
    "    \"\"\"\n",
    "    text = pytesseract.image_to_string(Image.open(filename))  # We'll use Pillow's Image class to open the image and pytesseract to detect the string in the image\n",
    "    return text\n"
   ]
  },
  {
   "cell_type": "code",
   "execution_count": 10,
   "metadata": {},
   "outputs": [
    {
     "ename": "TypeError",
     "evalue": "Expected Ptr<cv::UMat> for argument 'src'",
     "output_type": "error",
     "traceback": [
      "\u001b[1;31m---------------------------------------------------------------------------\u001b[0m",
      "\u001b[1;31mTypeError\u001b[0m                                 Traceback (most recent call last)",
      "\u001b[1;32m<ipython-input-10-35a0ab8e8b07>\u001b[0m in \u001b[0;36m<module>\u001b[1;34m\u001b[0m\n\u001b[0;32m     22\u001b[0m \u001b[1;33m\u001b[0m\u001b[0m\n\u001b[0;32m     23\u001b[0m \u001b[1;31m# Convert it to grayscale\u001b[0m\u001b[1;33m\u001b[0m\u001b[1;33m\u001b[0m\u001b[1;33m\u001b[0m\u001b[0m\n\u001b[1;32m---> 24\u001b[1;33m \u001b[0mimg_gray\u001b[0m \u001b[1;33m=\u001b[0m \u001b[0mcv2\u001b[0m\u001b[1;33m.\u001b[0m\u001b[0mcvtColor\u001b[0m\u001b[1;33m(\u001b[0m\u001b[0mimg_rgb\u001b[0m\u001b[1;33m,\u001b[0m \u001b[0mcv2\u001b[0m\u001b[1;33m.\u001b[0m\u001b[0mCOLOR_BGR2GRAY\u001b[0m\u001b[1;33m)\u001b[0m\u001b[1;33m\u001b[0m\u001b[1;33m\u001b[0m\u001b[0m\n\u001b[0m\u001b[0;32m     25\u001b[0m \u001b[1;33m\u001b[0m\u001b[0m\n\u001b[0;32m     26\u001b[0m \u001b[1;31m# Read the template\u001b[0m\u001b[1;33m\u001b[0m\u001b[1;33m\u001b[0m\u001b[1;33m\u001b[0m\u001b[0m\n",
      "\u001b[1;31mTypeError\u001b[0m: Expected Ptr<cv::UMat> for argument 'src'"
     ]
    }
   ],
   "source": [
    "# Python program to illustrate  \n",
    "# template matching \n",
    "from PIL import Image\n",
    "import cv2 \n",
    "import numpy as np \n",
    "import requests\n",
    "from io import BytesIO\n",
    "  \n",
    "# Read the main image \n",
    "#img_rgb = cv2.imread('mainimage.jpg'). \n",
    "response = requests.get(\"https://cdn.discordapp.com/attachments/677197132968755207/677198291586252919/Screenshot_20200212-180159_Video_Player.jpg\")\n",
    "\n",
    "img = Image.open(BytesIO(response.content))\n",
    "\n",
    "img.save('aaa.jpeg')\n",
    "img_rgb = Image.open('aaa.jpeg')\n",
    "\n",
    "\n",
    "#img_rgb.show()\n",
    "\n",
    "#img = cv2.imread('messi5.jpg',0)\n",
    "\n",
    "# Convert it to grayscale \n",
    "img_gray = cv2.cvtColor(img_rgb, cv2.COLOR_BGR2GRAY) \n",
    "  \n",
    "# Read the template \n",
    "template = cv2.imread('Template_Offer.png',0) \n",
    "  \n",
    "# Store width and height of template in w and h \n",
    "w, h = template.shape[::-1] \n",
    "  \n",
    "# Perform match operations. \n",
    "res = cv2.matchTemplate(img_gray,template,cv2.TM_CCOEFF_NORMED) \n",
    "  \n",
    "# Specify a threshold \n",
    "threshold = 0.8\n",
    "  \n",
    "# Store the coordinates of matched area in a numpy array \n",
    "loc = np.where( res >= threshold)  \n",
    "  \n",
    "# Draw a rectangle around the matched region. \n",
    "for pt in zip(*loc[::-1]): \n",
    "    cv2.rectangle(img_rgb, pt, (pt[0] + w, pt[1] + h), (0,255,255), 2) \n",
    "  \n",
    "# Show the final image with the matched area. \n",
    "cv2.imshow('Detected',img_rgb) "
   ]
  },
  {
   "cell_type": "code",
   "execution_count": 43,
   "metadata": {},
   "outputs": [
    {
     "data": {
      "text/plain": [
       "-1"
      ]
     },
     "execution_count": 43,
     "metadata": {},
     "output_type": "execute_result"
    }
   ],
   "source": [
    "import cv2\n",
    "import numpy as np\n",
    "#open the main image and convert it to gray scale image\n",
    "main_image = cv2.imread('aaa.png')\n",
    "gray_image = cv2.cvtColor(main_image, cv2.COLOR_BGR2GRAY)\n",
    "#open the template as gray scale image\n",
    "template = cv2.imread('Template_Offer.png', 0)\n",
    "width, height = template.shape[::-1] #get the width and height\n",
    "#match the template using cv2.matchTemplate\n",
    "match = cv2.matchTemplate(gray_image, template, cv2.TM_CCOEFF_NORMED)\n",
    "threshold = 0.8\n",
    "position = np.where(match >= threshold) #get the location of template in the image\n",
    "for point in zip(*position[::-1]): #draw the rectangle around the matched template\n",
    "       cv2.rectangle(main_image, point, (point[0] + width, point[1] + height), (0, 204, 153), 0)\n",
    "cv2.imshow('Template Found', main_image)\n",
    "cv2.waitKey(0)"
   ]
  },
  {
   "cell_type": "code",
   "execution_count": 3,
   "metadata": {},
   "outputs": [
    {
     "name": "stdout",
     "output_type": "stream",
     "text": [
      "None\n"
     ]
    },
    {
     "ename": "error",
     "evalue": "OpenCV(4.5.1) C:\\Users\\appveyor\\AppData\\Local\\Temp\\1\\pip-req-build-oduouqig\\opencv\\modules\\imgproc\\src\\color.cpp:182: error: (-215:Assertion failed) !_src.empty() in function 'cv::cvtColor'\n",
     "output_type": "error",
     "traceback": [
      "\u001b[1;31m---------------------------------------------------------------------------\u001b[0m",
      "\u001b[1;31merror\u001b[0m                                     Traceback (most recent call last)",
      "\u001b[1;32m<ipython-input-3-aa9c19f08e08>\u001b[0m in \u001b[0;36m<module>\u001b[1;34m\u001b[0m\n\u001b[0;32m      5\u001b[0m \u001b[0mtemplate\u001b[0m \u001b[1;33m=\u001b[0m \u001b[0mcv2\u001b[0m\u001b[1;33m.\u001b[0m\u001b[0mimread\u001b[0m\u001b[1;33m(\u001b[0m\u001b[1;34m'\\Template_Offer.png'\u001b[0m\u001b[1;33m,\u001b[0m\u001b[1;36m0\u001b[0m\u001b[1;33m)\u001b[0m\u001b[1;33m\u001b[0m\u001b[1;33m\u001b[0m\u001b[0m\n\u001b[0;32m      6\u001b[0m \u001b[0mprint\u001b[0m\u001b[1;33m(\u001b[0m\u001b[0mtemplate\u001b[0m\u001b[1;33m)\u001b[0m\u001b[1;33m\u001b[0m\u001b[1;33m\u001b[0m\u001b[0m\n\u001b[1;32m----> 7\u001b[1;33m \u001b[0mtemplate\u001b[0m \u001b[1;33m=\u001b[0m \u001b[0mcv2\u001b[0m\u001b[1;33m.\u001b[0m\u001b[0mcvtColor\u001b[0m\u001b[1;33m(\u001b[0m\u001b[0mtemplate\u001b[0m\u001b[1;33m,\u001b[0m \u001b[0mcv2\u001b[0m\u001b[1;33m.\u001b[0m\u001b[0mCOLOR_BGR2GRAY\u001b[0m\u001b[1;33m)\u001b[0m\u001b[1;33m\u001b[0m\u001b[1;33m\u001b[0m\u001b[0m\n\u001b[0m\u001b[0;32m      8\u001b[0m \u001b[0mtemplate\u001b[0m \u001b[1;33m=\u001b[0m \u001b[0mcv2\u001b[0m\u001b[1;33m.\u001b[0m\u001b[0mCanny\u001b[0m\u001b[1;33m(\u001b[0m\u001b[0mtemplate\u001b[0m\u001b[1;33m,\u001b[0m \u001b[1;36m10\u001b[0m\u001b[1;33m,\u001b[0m \u001b[1;36m25\u001b[0m\u001b[1;33m)\u001b[0m\u001b[1;33m\u001b[0m\u001b[1;33m\u001b[0m\u001b[0m\n\u001b[0;32m      9\u001b[0m \u001b[1;33m(\u001b[0m\u001b[0mheight\u001b[0m\u001b[1;33m,\u001b[0m \u001b[0mwidth\u001b[0m\u001b[1;33m)\u001b[0m \u001b[1;33m=\u001b[0m \u001b[0mtemplate\u001b[0m\u001b[1;33m.\u001b[0m\u001b[0mshape\u001b[0m\u001b[1;33m[\u001b[0m\u001b[1;33m:\u001b[0m\u001b[1;36m2\u001b[0m\u001b[1;33m]\u001b[0m\u001b[1;33m\u001b[0m\u001b[1;33m\u001b[0m\u001b[0m\n",
      "\u001b[1;31merror\u001b[0m: OpenCV(4.5.1) C:\\Users\\appveyor\\AppData\\Local\\Temp\\1\\pip-req-build-oduouqig\\opencv\\modules\\imgproc\\src\\color.cpp:182: error: (-215:Assertion failed) !_src.empty() in function 'cv::cvtColor'\n"
     ]
    }
   ],
   "source": [
    "import imutils\n",
    "import cv2\n",
    "import numpy as np\n",
    "#Open template and get canny\n",
    "template = cv2.imread('\\Template_Offer.png',0)\n",
    "print(template)\n",
    "template = cv2.cvtColor(template, cv2.COLOR_BGR2GRAY)\n",
    "template = cv2.Canny(template, 10, 25)\n",
    "(height, width) = template.shape[:2]\n",
    "#open the main image and convert it to gray scale image\n",
    "main_image = cv2.imread('aaa.png')\n",
    "gray_image = cv2.cvtColor(main_image, cv2.COLOR_BGR2GRAY)\n",
    "temp_found = None\n",
    "for scale in np.linspace(0.2, 1.0, 20)[::-1]:\n",
    "   #resize the image and store the ratio\n",
    "    resized_img = imutils.resize(gray_image, width = int(gray_image.shape[1] * scale))\n",
    "    ratio = gray_image.shape[1] / float(resized_img.shape[1])\n",
    "if resized_img.shape[0] < height or resized_img.shape[1] < width:\n",
    "#break\n",
    "#Convert to edged image for checking\n",
    "    e = cv2.Canny(resized_img, 10, 25)\n",
    "match = cv2.matchTemplate(e, template, cv2.TM_CCOEFF)\n",
    "(_, val_max, _, loc_max) = cv2.minMaxLoc(match)\n",
    "if temp_found is None or val_max>temp_found[0]:\n",
    "      temp_found = (val_max, loc_max, ratio)\n",
    "#Get information from temp_found to compute x,y coordinate\n",
    "(_, loc_max, r) = temp_found\n",
    "(x_start, y_start) = (int(loc_max[0]), int(loc_max[1]))\n",
    "(x_end, y_end) = (int((loc_max[0] + width)), int((loc_max[1] + height)))\n",
    "#Draw rectangle around the template\n",
    "cv2.rectangle(main_image, (x_start, y_start), (x_end, y_end), (153, 22, 0), 5)\n",
    "cv2.imshow('Template Found', main_image)\n",
    "cv2.waitKey(0)"
   ]
  },
  {
   "cell_type": "code",
   "execution_count": 53,
   "metadata": {},
   "outputs": [
    {
     "name": "stdout",
     "output_type": "stream",
     "text": [
      "[[[57 60 64]\n",
      "  [59 62 66]\n",
      "  [55 58 62]\n",
      "  ...\n",
      "  [60 62 62]\n",
      "  [60 62 62]\n",
      "  [59 61 61]]\n",
      "\n",
      " [[59 62 66]\n",
      "  [60 63 67]\n",
      "  [62 65 69]\n",
      "  ...\n",
      "  [61 63 63]\n",
      "  [59 61 61]\n",
      "  [59 61 61]]\n",
      "\n",
      " [[59 62 66]\n",
      "  [59 62 66]\n",
      "  [59 62 66]\n",
      "  ...\n",
      "  [60 62 62]\n",
      "  [61 63 63]\n",
      "  [58 60 60]]\n",
      "\n",
      " ...\n",
      "\n",
      " [[70 70 64]\n",
      "  [67 67 61]\n",
      "  [56 56 50]\n",
      "  ...\n",
      "  [73 71 61]\n",
      "  [72 70 60]\n",
      "  [73 71 61]]\n",
      "\n",
      " [[70 70 64]\n",
      "  [69 69 63]\n",
      "  [70 70 64]\n",
      "  ...\n",
      "  [74 72 62]\n",
      "  [71 69 59]\n",
      "  [74 72 62]]\n",
      "\n",
      " [[70 70 64]\n",
      "  [71 71 65]\n",
      "  [71 71 65]\n",
      "  ...\n",
      "  [73 71 61]\n",
      "  [73 71 60]\n",
      "  [73 71 60]]]\n"
     ]
    }
   ],
   "source": [
    "template = cv2.imread('Template_Offer.png')\n",
    "#print(template)\n",
    "\n",
    "cv2.imshow('image',template)\n"
   ]
  },
  {
   "cell_type": "code",
   "execution_count": 1,
   "metadata": {
    "scrolled": true
   },
   "outputs": [
    {
     "name": "stdout",
     "output_type": "stream",
     "text": [
      "Coordinates: (292, 963), Width: 136, Height: 137\n"
     ]
    },
    {
     "ename": "KeyboardInterrupt",
     "evalue": "",
     "output_type": "error",
     "traceback": [
      "\u001b[1;31m---------------------------------------------------------------------------\u001b[0m",
      "\u001b[1;31mKeyboardInterrupt\u001b[0m                         Traceback (most recent call last)",
      "\u001b[1;32m<ipython-input-1-cdc7d1536483>\u001b[0m in \u001b[0;36m<module>\u001b[1;34m\u001b[0m\n\u001b[0;32m      8\u001b[0m     \u001b[1;31m# display the image and wait for key press\u001b[0m\u001b[1;33m\u001b[0m\u001b[1;33m\u001b[0m\u001b[1;33m\u001b[0m\u001b[0m\n\u001b[0;32m      9\u001b[0m     \u001b[0mcv2\u001b[0m\u001b[1;33m.\u001b[0m\u001b[0mimshow\u001b[0m\u001b[1;33m(\u001b[0m\u001b[1;34m\"Original Image\"\u001b[0m\u001b[1;33m,\u001b[0m \u001b[0mimage\u001b[0m\u001b[1;33m)\u001b[0m\u001b[1;33m\u001b[0m\u001b[1;33m\u001b[0m\u001b[0m\n\u001b[1;32m---> 10\u001b[1;33m     \u001b[0mkey\u001b[0m \u001b[1;33m=\u001b[0m \u001b[0mcv2\u001b[0m\u001b[1;33m.\u001b[0m\u001b[0mwaitKey\u001b[0m\u001b[1;33m(\u001b[0m\u001b[1;33m)\u001b[0m\u001b[1;33m\u001b[0m\u001b[1;33m\u001b[0m\u001b[0m\n\u001b[0m\u001b[0;32m     11\u001b[0m \u001b[1;33m\u001b[0m\u001b[0m\n\u001b[0;32m     12\u001b[0m     \u001b[1;31m# if 'a' is pressed, draw roi on copy image\u001b[0m\u001b[1;33m\u001b[0m\u001b[1;33m\u001b[0m\u001b[1;33m\u001b[0m\u001b[0m\n",
      "\u001b[1;31mKeyboardInterrupt\u001b[0m: "
     ]
    }
   ],
   "source": [
    "\n",
    "import cv2 # import opencv\n",
    " \n",
    "# load image \n",
    "image = cv2.imread('aaa.png')\n",
    " \n",
    "# press 'q' to exit while loop\n",
    "while True: \n",
    "    # display the image and wait for key press\n",
    "    cv2.imshow(\"Original Image\", image)\n",
    "    key = cv2.waitKey()\n",
    " \n",
    "    # if 'a' is pressed, draw roi on copy image\n",
    "    if key == ord('a'):\n",
    "        (x,y,w,h) = cv2.selectROI(\"Image\", image, fromCenter=False, \n",
    "            showCrosshair=False)\n",
    "        # make sure an area is selected before pressing 'enter', 'space' or 'q'\n",
    "        # crop the image and display cropped image\n",
    "        cropped_roi = image[y:y+h, x:x+w]\n",
    "        cv2.imshow(\"Cropped\", cropped_roi)\n",
    "        \n",
    "        # print y, x coordinates for roi, and width and height of selected roi\n",
    "        print(\"Coordinates: ({}, {}), Width: {}, Height: {}\".format(y, x, w, h))\n",
    "    elif key == ord('q'):\n",
    "        break\n",
    "\n",
    "cv2.destroyAllWindows()"
   ]
  },
  {
   "cell_type": "code",
   "execution_count": 2,
   "metadata": {},
   "outputs": [
    {
     "data": {
      "text/plain": [
       "True"
      ]
     },
     "execution_count": 2,
     "metadata": {},
     "output_type": "execute_result"
    }
   ],
   "source": [
    "import cv2\n",
    "\n",
    "#Load the image in black and white (0 - b/w, 1 - color).\n",
    "img = cv2.imread('aaa.png', 0)\n",
    "\n",
    "#Get the height and width of the image.\n",
    "h, w = img.shape[:2]\n",
    "\n",
    "#Invert the image to be white on black for compatibility with findContours function.\n",
    "imgray = 255 - img\n",
    "#Binarize the image and call it thresh.\n",
    "ret, thresh = cv2.threshold(imgray, 127, 255, cv2.THRESH_BINARY)\n",
    "\n",
    "#Find all the contours in thresh. In your case the 3 and the additional strike\n",
    "contours, hierarchy = cv2.findContours(thresh, cv2.RETR_LIST, cv2.CHAIN_APPROX_SIMPLE)\n",
    "#Calculate bounding rectangles for each contour.\n",
    "rects = [cv2.boundingRect(cnt) for cnt in contours]\n",
    "\n",
    "#Calculate the combined bounding rectangle points.\n",
    "top_x = min([x for (x, y, w, h) in rects])\n",
    "top_y = min([y for (x, y, w, h) in rects])\n",
    "bottom_x = max([x+w for (x, y, w, h) in rects])\n",
    "bottom_y = max([y+h for (x, y, w, h) in rects])\n",
    "\n",
    "#Draw the rectangle on the image\n",
    "out = cv2.rectangle(img, (top_x, top_y), (bottom_x, bottom_y), (0, 255, 0), 2)\n",
    "#Save it as out.jpg\n",
    "cv2.imwrite('out.jpg', img)"
   ]
  },
  {
   "cell_type": "code",
   "execution_count": 1,
   "metadata": {},
   "outputs": [
    {
     "ename": "error",
     "evalue": "OpenCV(4.5.1) C:\\Users\\appveyor\\AppData\\Local\\Temp\\1\\pip-req-build-oduouqig\\opencv\\modules\\highgui\\src\\window.cpp:376: error: (-215:Assertion failed) size.width>0 && size.height>0 in function 'cv::imshow'\n",
     "output_type": "error",
     "traceback": [
      "\u001b[1;31m---------------------------------------------------------------------------\u001b[0m",
      "\u001b[1;31merror\u001b[0m                                     Traceback (most recent call last)",
      "\u001b[1;32m<ipython-input-1-1d043359c4ee>\u001b[0m in \u001b[0;36m<module>\u001b[1;34m\u001b[0m\n\u001b[0;32m      9\u001b[0m \u001b[1;33m\u001b[0m\u001b[0m\n\u001b[0;32m     10\u001b[0m \u001b[1;31m# Displaying the image\u001b[0m\u001b[1;33m\u001b[0m\u001b[1;33m\u001b[0m\u001b[1;33m\u001b[0m\u001b[0m\n\u001b[1;32m---> 11\u001b[1;33m \u001b[0mcv2\u001b[0m\u001b[1;33m.\u001b[0m\u001b[0mimshow\u001b[0m\u001b[1;33m(\u001b[0m\u001b[1;34m'image'\u001b[0m\u001b[1;33m,\u001b[0m \u001b[0mimg\u001b[0m\u001b[1;33m)\u001b[0m\u001b[1;33m\u001b[0m\u001b[1;33m\u001b[0m\u001b[0m\n\u001b[0m",
      "\u001b[1;31merror\u001b[0m: OpenCV(4.5.1) C:\\Users\\appveyor\\AppData\\Local\\Temp\\1\\pip-req-build-oduouqig\\opencv\\modules\\highgui\\src\\window.cpp:376: error: (-215:Assertion failed) size.width>0 && size.height>0 in function 'cv::imshow'\n"
     ]
    }
   ],
   "source": [
    "import cv2 \n",
    "  \n",
    "# path \n",
    "path = r'\\aaa.png'\n",
    "  \n",
    "# Using cv2.imread() method \n",
    "# Using 0 to read image in grayscale mode \n",
    "img = cv2.imread(path, 0) \n",
    "  \n",
    "# Displaying the image \n",
    "cv2.imshow('image', img) "
   ]
  },
  {
   "cell_type": "code",
   "execution_count": 1,
   "metadata": {},
   "outputs": [
    {
     "data": {
      "text/plain": [
       "113"
      ]
     },
     "execution_count": 1,
     "metadata": {},
     "output_type": "execute_result"
    }
   ],
   "source": [
    "import cv2\n",
    "import numpy as np\n",
    "#open the main image and convert it to gray scale image\n",
    "main_image = cv2.imread('aaa.png')\n",
    "gray_image = cv2.cvtColor(main_image, cv2.COLOR_BGR2GRAY)\n",
    "#open the template as gray scale image\n",
    "template = cv2.imread('Template_Offer.png', 0)\n",
    "width, height = template.shape[::-1] #get the width and height\n",
    "#match the template using cv2.matchTemplate\n",
    "match = cv2.matchTemplate(gray_image, template, cv2.TM_CCOEFF_NORMED)\n",
    "threshold = 0.8\n",
    "position = np.where(match >= threshold) #get the location of template in the image\n",
    "for point in zip(*position[::-1]): #draw the rectangle around the matched template\n",
    "       cv2.rectangle(main_image, point, (point[0] + width, point[1] + height), (0, 204, 153), 0)\n",
    "cv2.imshow('Template Found', main_image)\n",
    "cv2.waitKey(0)"
   ]
  },
  {
   "cell_type": "code",
   "execution_count": null,
   "metadata": {},
   "outputs": [],
   "source": []
  }
 ],
 "metadata": {
  "kernelspec": {
   "display_name": "Python 3",
   "language": "python",
   "name": "python3"
  },
  "language_info": {
   "codemirror_mode": {
    "name": "ipython",
    "version": 3
   },
   "file_extension": ".py",
   "mimetype": "text/x-python",
   "name": "python",
   "nbconvert_exporter": "python",
   "pygments_lexer": "ipython3",
   "version": "3.7.4"
  }
 },
 "nbformat": 4,
 "nbformat_minor": 2
}
