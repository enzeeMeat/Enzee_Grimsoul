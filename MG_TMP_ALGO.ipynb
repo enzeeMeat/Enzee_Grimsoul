{
 "cells": [
  {
   "cell_type": "code",
   "execution_count": 1,
   "metadata": {},
   "outputs": [],
   "source": [
    "try:\n",
    "    from itertools import izip as zip\n",
    "except ImportError: # will be 3.x series\n",
    "    pass"
   ]
  },
  {
   "cell_type": "code",
   "execution_count": 5,
   "metadata": {},
   "outputs": [],
   "source": [
    "def scan_image(image, template, process='sad'):\n",
    "    x_axis_leng = len(image[0]) - len(template[0]) # how far to scan on x axis of image\n",
    "    y_axis_hgt = len(image) - len(template) # how far to scan on y axis\n",
    "    best_location = list() # will hold the coordinates of the final location \n",
    "    score = sys.maxsize # similarity strength score (the less the better)\n",
    "    calculate = ImageCalculation() # class that is used to calculate strength score using ssd or sad \n",
    "\n",
    "    for i in xrange(len(image)):\n",
    "      for j in xrange(len(image[i])):\n",
    "        if (j <= x_axis_leng) and \\\n",
    "          (i <= y_axis_hgt):\n",
    "\n",
    "          temp_matrix_holder = list()\n",
    "          temp_matrix_holder.append(\\\n",
    "            image[i][j:j+len(template[0])])\n",
    "          temp_matrix_holder.append(\\\n",
    "            image[i + 1][j:j+len(template[0])])\n",
    "\n",
    "          new_score = calculate.run(\\\n",
    "            temp_matrix_holder, template, process)\n",
    "\n",
    "          if new_score <= score:\n",
    "            score = new_score\n",
    "            best_location = [j, i]\n",
    "\n",
    "    return score, best_location"
   ]
  },
  {
   "cell_type": "code",
   "execution_count": 8,
   "metadata": {},
   "outputs": [],
   "source": [
    "class ImageCalculation:\n",
    "    def __init__(self):\n",
    "        self.score = 0.0\n",
    "\n",
    "    def _reset_score(self):\n",
    "        self.score = 0.0\n",
    "\n",
    "    def _minus(self, atuple):\n",
    "        return abs(atuple[0]-atuple[1])\n",
    "\n",
    "    def _sad(self, atuple):\n",
    "        \"\"\"sum of absolute difference\"\"\" \n",
    "\n",
    "    # this is not nessesary but keeps the code a little neater \n",
    "    # and also shows the explicit difference between sad and ssd\n",
    "        return self._minus(atuple)\n",
    "\n",
    "    def _ssd(self, atuple):\n",
    "        \"\"\"sum of squared difference\"\"\"\n",
    "\n",
    "        diff = self._minus(atuple)\n",
    "        return diff * diff \n",
    "\n",
    "    def _block_template_comparison(self, image_block, template, process):\n",
    "\n",
    "        if (len(image_block) != len(template)) or \\\n",
    "            (len(image_block[0]) != len(template[0])):\n",
    "\n",
    "            return 'Error'\n",
    "\n",
    "        for i in range(len(image_block)):\n",
    "            for j in range(len(image_block[i])):\n",
    "                one_pixel_score = 0.0\n",
    "                for k in izip(image_block[i][j], template[i][j]):\n",
    "\n",
    "                        if process == 'sad':\n",
    "                            one_pixel_score += self._sad(k)\n",
    "\n",
    "                        elif process == 'ssd':\n",
    "                            one_pixel_score += self._ssd(k)\n",
    "\n",
    "\n",
    "                self.score += (one_pixel_score/3.0) # average out all 3 (RGB) channels for each pixle    \n",
    "\n",
    "                return self.score\n",
    "\n",
    "    def run(self, image_block, template, process='sad'):\n",
    "\n",
    "        if process == 'ssd':\n",
    "              process = 'ssd'\n",
    "        elif process == 'sad':\n",
    "              process = 'sad'\n",
    "        else:\n",
    "              raise ValueError('Proccess must be either sad or ssd')\n",
    "\n",
    "        if not self.score == 0.0:\n",
    "              self._reset_score()\n",
    "\n",
    "        return self._block_template_comparison(image_block, template, process)"
   ]
  },
  {
   "cell_type": "code",
   "execution_count": 9,
   "metadata": {},
   "outputs": [
    {
     "ename": "NameError",
     "evalue": "name 'xrange' is not defined",
     "output_type": "error",
     "traceback": [
      "\u001b[1;31m---------------------------------------------------------------------------\u001b[0m",
      "\u001b[1;31mNameError\u001b[0m                                 Traceback (most recent call last)",
      "\u001b[1;32m<ipython-input-9-612d03767ca2>\u001b[0m in \u001b[0;36m<module>\u001b[1;34m\u001b[0m\n\u001b[0;32m      9\u001b[0m \u001b[0mt_i\u001b[0m \u001b[1;33m=\u001b[0m \u001b[0mnp\u001b[0m\u001b[1;33m.\u001b[0m\u001b[0marray\u001b[0m\u001b[1;33m(\u001b[0m\u001b[0mhere\u001b[0m\u001b[1;33m)\u001b[0m\u001b[1;33m\u001b[0m\u001b[1;33m\u001b[0m\u001b[0m\n\u001b[0;32m     10\u001b[0m \u001b[1;33m\u001b[0m\u001b[0m\n\u001b[1;32m---> 11\u001b[1;33m \u001b[0ms\u001b[0m \u001b[1;33m=\u001b[0m \u001b[0mscan_image\u001b[0m\u001b[1;33m(\u001b[0m\u001b[0mp_i\u001b[0m\u001b[1;33m,\u001b[0m \u001b[0mt_i\u001b[0m\u001b[1;33m)\u001b[0m\u001b[1;33m\u001b[0m\u001b[1;33m\u001b[0m\u001b[0m\n\u001b[0m\u001b[0;32m     12\u001b[0m \u001b[0mprint\u001b[0m \u001b[1;33m(\u001b[0m\u001b[0ms\u001b[0m\u001b[1;33m.\u001b[0m\u001b[0mrun\u001b[0m\u001b[1;33m(\u001b[0m\u001b[1;33m)\u001b[0m\u001b[1;33m)\u001b[0m\u001b[1;33m\u001b[0m\u001b[1;33m\u001b[0m\u001b[0m\n",
      "\u001b[1;32m<ipython-input-5-063d7f9adc52>\u001b[0m in \u001b[0;36mscan_image\u001b[1;34m(image, template, process)\u001b[0m\n\u001b[0;32m      6\u001b[0m     \u001b[0mcalculate\u001b[0m \u001b[1;33m=\u001b[0m \u001b[0mImageCalculation\u001b[0m\u001b[1;33m(\u001b[0m\u001b[1;33m)\u001b[0m \u001b[1;31m# class that is used to calculate strength score using ssd or sad\u001b[0m\u001b[1;33m\u001b[0m\u001b[1;33m\u001b[0m\u001b[0m\n\u001b[0;32m      7\u001b[0m \u001b[1;33m\u001b[0m\u001b[0m\n\u001b[1;32m----> 8\u001b[1;33m     \u001b[1;32mfor\u001b[0m \u001b[0mi\u001b[0m \u001b[1;32min\u001b[0m \u001b[0mxrange\u001b[0m\u001b[1;33m(\u001b[0m\u001b[0mlen\u001b[0m\u001b[1;33m(\u001b[0m\u001b[0mimage\u001b[0m\u001b[1;33m)\u001b[0m\u001b[1;33m)\u001b[0m\u001b[1;33m:\u001b[0m\u001b[1;33m\u001b[0m\u001b[1;33m\u001b[0m\u001b[0m\n\u001b[0m\u001b[0;32m      9\u001b[0m       \u001b[1;32mfor\u001b[0m \u001b[0mj\u001b[0m \u001b[1;32min\u001b[0m \u001b[0mxrange\u001b[0m\u001b[1;33m(\u001b[0m\u001b[0mlen\u001b[0m\u001b[1;33m(\u001b[0m\u001b[0mimage\u001b[0m\u001b[1;33m[\u001b[0m\u001b[0mi\u001b[0m\u001b[1;33m]\u001b[0m\u001b[1;33m)\u001b[0m\u001b[1;33m)\u001b[0m\u001b[1;33m:\u001b[0m\u001b[1;33m\u001b[0m\u001b[1;33m\u001b[0m\u001b[0m\n\u001b[0;32m     10\u001b[0m         \u001b[1;32mif\u001b[0m \u001b[1;33m(\u001b[0m\u001b[0mj\u001b[0m \u001b[1;33m<=\u001b[0m \u001b[0mx_axis_leng\u001b[0m\u001b[1;33m)\u001b[0m \u001b[1;32mand\u001b[0m\u001b[0;31m \u001b[0m\u001b[0;31m\\\u001b[0m\u001b[1;33m\u001b[0m\u001b[1;33m\u001b[0m\u001b[0m\n",
      "\u001b[1;31mNameError\u001b[0m: name 'xrange' is not defined"
     ]
    }
   ],
   "source": [
    "import numpy as np\n",
    "from PIL import Image\n",
    "import sys\n",
    "\n",
    "here = Image.open(r\"Template_Reward.png\")\n",
    "big  = Image.open(r\"aaa.png\")\n",
    "\n",
    "p_i = np.array(big)\n",
    "t_i = np.array(here)\n",
    "\n",
    "s = scan_image(p_i, t_i)\n",
    "print (s.run())"
   ]
  },
  {
   "cell_type": "code",
   "execution_count": null,
   "metadata": {},
   "outputs": [],
   "source": []
  }
 ],
 "metadata": {
  "kernelspec": {
   "display_name": "Python 3",
   "language": "python",
   "name": "python3"
  },
  "language_info": {
   "codemirror_mode": {
    "name": "ipython",
    "version": 3
   },
   "file_extension": ".py",
   "mimetype": "text/x-python",
   "name": "python",
   "nbconvert_exporter": "python",
   "pygments_lexer": "ipython3",
   "version": "3.7.4"
  }
 },
 "nbformat": 4,
 "nbformat_minor": 2
}
