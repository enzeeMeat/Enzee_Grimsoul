{
 "cells": [
  {
   "cell_type": "code",
   "execution_count": 2,
   "metadata": {},
   "outputs": [
    {
     "ename": "error",
     "evalue": "OpenCV(4.5.1) C:\\Users\\appveyor\\AppData\\Local\\Temp\\1\\pip-req-build-oduouqig\\opencv\\modules\\imgproc\\src\\color.cpp:182: error: (-215:Assertion failed) !_src.empty() in function 'cv::cvtColor'\n",
     "output_type": "error",
     "traceback": [
      "\u001b[1;31m---------------------------------------------------------------------------\u001b[0m",
      "\u001b[1;31merror\u001b[0m                                     Traceback (most recent call last)",
      "\u001b[1;32m<ipython-input-2-9b394df557f5>\u001b[0m in \u001b[0;36m<module>\u001b[1;34m\u001b[0m\n\u001b[0;32m     52\u001b[0m \u001b[1;33m\u001b[0m\u001b[0m\n\u001b[0;32m     53\u001b[0m \u001b[0mfile_name\u001b[0m \u001b[1;33m=\u001b[0m \u001b[1;34m'your_image.jpg'\u001b[0m\u001b[1;33m\u001b[0m\u001b[1;33m\u001b[0m\u001b[0m\n\u001b[1;32m---> 54\u001b[1;33m \u001b[0mcaptch_ex\u001b[0m\u001b[1;33m(\u001b[0m\u001b[0mfile_name\u001b[0m\u001b[1;33m)\u001b[0m\u001b[1;33m\u001b[0m\u001b[1;33m\u001b[0m\u001b[0m\n\u001b[0m",
      "\u001b[1;32m<ipython-input-2-9b394df557f5>\u001b[0m in \u001b[0;36mcaptch_ex\u001b[1;34m(file_name)\u001b[0m\n\u001b[0;32m      6\u001b[0m \u001b[1;33m\u001b[0m\u001b[0m\n\u001b[0;32m      7\u001b[0m     \u001b[0mimg_final\u001b[0m \u001b[1;33m=\u001b[0m \u001b[0mcv2\u001b[0m\u001b[1;33m.\u001b[0m\u001b[0mimread\u001b[0m\u001b[1;33m(\u001b[0m\u001b[0mfile_name\u001b[0m\u001b[1;33m)\u001b[0m\u001b[1;33m\u001b[0m\u001b[1;33m\u001b[0m\u001b[0m\n\u001b[1;32m----> 8\u001b[1;33m     \u001b[0mimg2gray\u001b[0m \u001b[1;33m=\u001b[0m \u001b[0mcv2\u001b[0m\u001b[1;33m.\u001b[0m\u001b[0mcvtColor\u001b[0m\u001b[1;33m(\u001b[0m\u001b[0mimg\u001b[0m\u001b[1;33m,\u001b[0m \u001b[0mcv2\u001b[0m\u001b[1;33m.\u001b[0m\u001b[0mCOLOR_BGR2GRAY\u001b[0m\u001b[1;33m)\u001b[0m\u001b[1;33m\u001b[0m\u001b[1;33m\u001b[0m\u001b[0m\n\u001b[0m\u001b[0;32m      9\u001b[0m     \u001b[0mret\u001b[0m\u001b[1;33m,\u001b[0m \u001b[0mmask\u001b[0m \u001b[1;33m=\u001b[0m \u001b[0mcv2\u001b[0m\u001b[1;33m.\u001b[0m\u001b[0mthreshold\u001b[0m\u001b[1;33m(\u001b[0m\u001b[0mimg2gray\u001b[0m\u001b[1;33m,\u001b[0m \u001b[1;36m180\u001b[0m\u001b[1;33m,\u001b[0m \u001b[1;36m255\u001b[0m\u001b[1;33m,\u001b[0m \u001b[0mcv2\u001b[0m\u001b[1;33m.\u001b[0m\u001b[0mTHRESH_BINARY\u001b[0m\u001b[1;33m)\u001b[0m\u001b[1;33m\u001b[0m\u001b[1;33m\u001b[0m\u001b[0m\n\u001b[0;32m     10\u001b[0m     \u001b[0mimage_final\u001b[0m \u001b[1;33m=\u001b[0m \u001b[0mcv2\u001b[0m\u001b[1;33m.\u001b[0m\u001b[0mbitwise_and\u001b[0m\u001b[1;33m(\u001b[0m\u001b[0mimg2gray\u001b[0m\u001b[1;33m,\u001b[0m \u001b[0mimg2gray\u001b[0m\u001b[1;33m,\u001b[0m \u001b[0mmask\u001b[0m\u001b[1;33m=\u001b[0m\u001b[0mmask\u001b[0m\u001b[1;33m)\u001b[0m\u001b[1;33m\u001b[0m\u001b[1;33m\u001b[0m\u001b[0m\n",
      "\u001b[1;31merror\u001b[0m: OpenCV(4.5.1) C:\\Users\\appveyor\\AppData\\Local\\Temp\\1\\pip-req-build-oduouqig\\opencv\\modules\\imgproc\\src\\color.cpp:182: error: (-215:Assertion failed) !_src.empty() in function 'cv::cvtColor'\n"
     ]
    }
   ],
   "source": [
    "import cv2\n",
    "\n",
    "\n",
    "def captch_ex(file_name):\n",
    "    img = cv2.imread(file_name)\n",
    "\n",
    "    img_final = cv2.imread(file_name)\n",
    "    img2gray = cv2.cvtColor(img, cv2.COLOR_BGR2GRAY)\n",
    "    ret, mask = cv2.threshold(img2gray, 180, 255, cv2.THRESH_BINARY)\n",
    "    image_final = cv2.bitwise_and(img2gray, img2gray, mask=mask)\n",
    "    ret, new_img = cv2.threshold(image_final, 180, 255, cv2.THRESH_BINARY)  # for black text , cv.THRESH_BINARY_INV\n",
    "    '''\n",
    "            line  8 to 12  : Remove noisy portion \n",
    "    '''\n",
    "    kernel = cv2.getStructuringElement(cv2.MORPH_CROSS, (3,\n",
    "                                                         3))  # to manipulate the orientation of dilution , large x means horizonatally dilating  more, large y means vertically dilating more\n",
    "    dilated = cv2.dilate(new_img, kernel, iterations=9)  # dilate , more the iteration more the dilation\n",
    "\n",
    "    # for cv2.x.x\n",
    "\n",
    "    _, contours, hierarchy = cv2.findContours(dilated, cv2.RETR_EXTERNAL, cv2.CHAIN_APPROX_NONE)  # findContours returns 3 variables for getting contours\n",
    "\n",
    "    # for cv3.x.x comment above line and uncomment line below\n",
    "\n",
    "    #image, contours, hierarchy = cv2.findContours(dilated,cv2.RETR_EXTERNAL,cv2.CHAIN_APPROX_NONE)\n",
    "\n",
    "\n",
    "    for contour in contours:\n",
    "        # get rectangle bounding contour\n",
    "        [x, y, w, h] = cv2.boundingRect(contour)\n",
    "\n",
    "        # Don't plot small false positives that aren't text\n",
    "        if w < 35 and h < 35:\n",
    "            continue\n",
    "\n",
    "        # draw rectangle around contour on original image\n",
    "        cv2.rectangle(img, (x, y), (x + w, y + h), (255, 0, 255), 2)\n",
    "\n",
    "        '''\n",
    "        #you can crop image and send to OCR  , false detected will return no text :)\n",
    "        cropped = img_final[y :y +  h , x : x + w]\n",
    "\n",
    "        s = file_name + '/crop_' + str(index) + '.jpg' \n",
    "        cv2.imwrite(s , cropped)\n",
    "        index = index + 1\n",
    "\n",
    "        '''\n",
    "    # write original image with added contours to disk\n",
    "    cv2.imshow('captcha_result', img)\n",
    "    cv2.waitKey()\n",
    "\n",
    "\n",
    "file_name = 'your_image.jpg'\n",
    "captch_ex(file_name)"
   ]
  },
  {
   "cell_type": "code",
   "execution_count": 3,
   "metadata": {},
   "outputs": [
    {
     "ename": "NameError",
     "evalue": "name 'aaa' is not defined",
     "output_type": "error",
     "traceback": [
      "\u001b[1;31m---------------------------------------------------------------------------\u001b[0m",
      "\u001b[1;31mNameError\u001b[0m                                 Traceback (most recent call last)",
      "\u001b[1;32m<ipython-input-3-df9bbca817dc>\u001b[0m in \u001b[0;36m<module>\u001b[1;34m\u001b[0m\n\u001b[1;32m----> 1\u001b[1;33m \u001b[0mcaptch_ex\u001b[0m\u001b[1;33m(\u001b[0m\u001b[0maaa\u001b[0m\u001b[1;33m.\u001b[0m\u001b[0mpng\u001b[0m\u001b[1;33m)\u001b[0m\u001b[1;33m\u001b[0m\u001b[1;33m\u001b[0m\u001b[0m\n\u001b[0m",
      "\u001b[1;31mNameError\u001b[0m: name 'aaa' is not defined"
     ]
    }
   ],
   "source": [
    "captch_ex(aaa.png)"
   ]
  },
  {
   "cell_type": "code",
   "execution_count": 24,
   "metadata": {},
   "outputs": [
    {
     "data": {
      "text/plain": [
       "<function matplotlib.pyplot.show(close=None, block=None)>"
      ]
     },
     "execution_count": 24,
     "metadata": {},
     "output_type": "execute_result"
    },
    {
     "data": {
      "image/png": "[encoded data removed]",
      "text/plain": [
       "<Figure size 432x288 with 1 Axes>"
      ]
     },
     "metadata": {
      "needs_background": "light"
     },
     "output_type": "display_data"
    }
   ],
   "source": [
    "\n",
    "import cv2\n",
    "import numpy as np\n",
    "import matplotlib.pyplot as plt\n",
    "\n",
    "\n",
    "## (1) Read\n",
    "img = cv2.imread(\"aaa.png\")\n",
    "gray = cv2.cvtColor(img, cv2.COLOR_BGR2GRAY)\n",
    "\n",
    "#plt.imshow(img , cmap = plt.cm.gray)\n",
    "#plt.show\n",
    "#plt.imshow(gray , cmap = plt.cm.gray)\n",
    "#plt.show\n",
    "\n",
    "\n",
    "## (2) Threshold\n",
    "th, threshed = cv2.threshold(gray, 127, 255, cv2.THRESH_BINARY_INV|cv2.THRESH_OTSU)\n",
    "\n",
    "## (3) Find the min-area contour\n",
    "cnts = cv2.findContours(threshed, cv2.RETR_TREE, cv2.CHAIN_APPROX_SIMPLE)[-2]\n",
    "cnts = sorted(cnts, key=cv2.contourArea)\n",
    "for cnt in cnts:\n",
    "    if cv2.contourArea(cnt) > 150:\n",
    "        break\n",
    "\n",
    "## (4) Create mask and do bitwise-op\n",
    "mask = np.zeros(img.shape[:2],np.uint8)\n",
    "cv2.drawContours(mask, [cnt],-1, 255, -1)\n",
    "dst = cv2.bitwise_and(img, img, mask=mask)\n",
    "\n",
    "plt.imshow(dst , cmap = plt.cm.gray)\n",
    "plt.show\n",
    "## Save it\n",
    "#cv2.imwrite(\"dst.png\", dst)"
   ]
  },
  {
   "cell_type": "code",
   "execution_count": 28,
   "metadata": {},
   "outputs": [
    {
     "data": {
      "image/png": "[encoded data removed]",
      "text/plain": [
       "<Figure size 432x288 with 2 Axes>"
      ]
     },
     "metadata": {},
     "output_type": "display_data"
    }
   ],
   "source": [
    "import cv2\n",
    "import numpy as np\n",
    "from matplotlib import pyplot as plt\n",
    "\n",
    "img = cv2.imread('aaa.png',0)\n",
    "edges = cv2.Canny(img,100,200)\n",
    "\n",
    "plt.subplot(121),plt.imshow(img,cmap = 'gray')\n",
    "plt.title('Original Image'), plt.xticks([]), plt.yticks([])\n",
    "plt.subplot(122),plt.imshow(edges,cmap = 'gray')\n",
    "plt.title('Edge Image'), plt.xticks([]), plt.yticks([])\n",
    "cv2.imwrite(\"edge.png\", edges)\n",
    "plt.show()"
   ]
  },
  {
   "cell_type": "code",
   "execution_count": 31,
   "metadata": {},
   "outputs": [],
   "source": [
    "def find_squares(img):\n",
    "    img = cv2.GaussianBlur(img, (5, 5), 0)\n",
    "    squares = []\n",
    "    for gray in cv2.split(img):\n",
    "        for thrs in range(0, 255, 26):\n",
    "            if thrs == 0:\n",
    "                bin = cv2.Canny(gray, 0, 50, apertureSize=5)\n",
    "                bin = cv2.dilate(bin, None)\n",
    "            else:\n",
    "                _retval, bin = cv2.threshold(gray, thrs, 255, cv2.THRESH_BINARY)\n",
    "            bin, contours, _hierarchy = cv2.findContours(bin, cv2.RETR_LIST, cv2.CHAIN_APPROX_SIMPLE)\n",
    "            for cnt in contours:\n",
    "                cnt_len = cv2.arcLength(cnt, True)\n",
    "                cnt = cv2.approxPolyDP(cnt, 0.02*cnt_len, True)\n",
    "                if len(cnt) == 4 and cv2.contourArea(cnt) > 1000 and cv2.isContourConvex(cnt):\n",
    "                    cnt = cnt.reshape(-1, 2)\n",
    "                    max_cos = np.max([angle_cos( cnt[i], cnt[(i+1) % 4], cnt[(i+2) % 4] ) for i in range(4)])\n",
    "                    #print(cnt)\n",
    "                    a = (cnt[1][1] - cnt[0][1])\n",
    "\n",
    "                    if max_cos < 0.1 and a < img.shape[0]*0.8:\n",
    "\n",
    "                        squares.append(cnt)\n",
    "    return squares\n"
   ]
  },
  {
   "cell_type": "code",
   "execution_count": 32,
   "metadata": {},
   "outputs": [
    {
     "ename": "ValueError",
     "evalue": "not enough values to unpack (expected 3, got 2)",
     "output_type": "error",
     "traceback": [
      "\u001b[1;31m---------------------------------------------------------------------------\u001b[0m",
      "\u001b[1;31mValueError\u001b[0m                                Traceback (most recent call last)",
      "\u001b[1;32m<ipython-input-32-c9fac040bdd1>\u001b[0m in \u001b[0;36m<module>\u001b[1;34m\u001b[0m\n\u001b[0;32m      1\u001b[0m \u001b[0mdice\u001b[0m \u001b[1;33m=\u001b[0m \u001b[0mcv2\u001b[0m\u001b[1;33m.\u001b[0m\u001b[0mimread\u001b[0m\u001b[1;33m(\u001b[0m\u001b[1;34m'aaa.png'\u001b[0m\u001b[1;33m)\u001b[0m\u001b[1;33m\u001b[0m\u001b[1;33m\u001b[0m\u001b[0m\n\u001b[1;32m----> 2\u001b[1;33m \u001b[0msquares\u001b[0m \u001b[1;33m=\u001b[0m \u001b[0mfind_squares\u001b[0m\u001b[1;33m(\u001b[0m\u001b[0mdice\u001b[0m\u001b[1;33m)\u001b[0m\u001b[1;33m\u001b[0m\u001b[1;33m\u001b[0m\u001b[0m\n\u001b[0m\u001b[0;32m      3\u001b[0m \u001b[0mcv2\u001b[0m\u001b[1;33m.\u001b[0m\u001b[0mdrawContours\u001b[0m\u001b[1;33m(\u001b[0m\u001b[0mdice\u001b[0m\u001b[1;33m,\u001b[0m \u001b[0msquares\u001b[0m\u001b[1;33m,\u001b[0m \u001b[1;33m-\u001b[0m\u001b[1;36m1\u001b[0m\u001b[1;33m,\u001b[0m \u001b[1;33m(\u001b[0m\u001b[1;36m0\u001b[0m\u001b[1;33m,\u001b[0m \u001b[1;36m255\u001b[0m\u001b[1;33m,\u001b[0m \u001b[1;36m0\u001b[0m\u001b[1;33m)\u001b[0m\u001b[1;33m,\u001b[0m \u001b[1;36m3\u001b[0m\u001b[1;33m)\u001b[0m\u001b[1;33m\u001b[0m\u001b[1;33m\u001b[0m\u001b[0m\n",
      "\u001b[1;32m<ipython-input-31-7cf2edde809f>\u001b[0m in \u001b[0;36mfind_squares\u001b[1;34m(img)\u001b[0m\n\u001b[0;32m      9\u001b[0m             \u001b[1;32melse\u001b[0m\u001b[1;33m:\u001b[0m\u001b[1;33m\u001b[0m\u001b[1;33m\u001b[0m\u001b[0m\n\u001b[0;32m     10\u001b[0m                 \u001b[0m_retval\u001b[0m\u001b[1;33m,\u001b[0m \u001b[0mbin\u001b[0m \u001b[1;33m=\u001b[0m \u001b[0mcv2\u001b[0m\u001b[1;33m.\u001b[0m\u001b[0mthreshold\u001b[0m\u001b[1;33m(\u001b[0m\u001b[0mgray\u001b[0m\u001b[1;33m,\u001b[0m \u001b[0mthrs\u001b[0m\u001b[1;33m,\u001b[0m \u001b[1;36m255\u001b[0m\u001b[1;33m,\u001b[0m \u001b[0mcv2\u001b[0m\u001b[1;33m.\u001b[0m\u001b[0mTHRESH_BINARY\u001b[0m\u001b[1;33m)\u001b[0m\u001b[1;33m\u001b[0m\u001b[1;33m\u001b[0m\u001b[0m\n\u001b[1;32m---> 11\u001b[1;33m             \u001b[0mbin\u001b[0m\u001b[1;33m,\u001b[0m \u001b[0mcontours\u001b[0m\u001b[1;33m,\u001b[0m \u001b[0m_hierarchy\u001b[0m \u001b[1;33m=\u001b[0m \u001b[0mcv2\u001b[0m\u001b[1;33m.\u001b[0m\u001b[0mfindContours\u001b[0m\u001b[1;33m(\u001b[0m\u001b[0mbin\u001b[0m\u001b[1;33m,\u001b[0m \u001b[0mcv2\u001b[0m\u001b[1;33m.\u001b[0m\u001b[0mRETR_LIST\u001b[0m\u001b[1;33m,\u001b[0m \u001b[0mcv2\u001b[0m\u001b[1;33m.\u001b[0m\u001b[0mCHAIN_APPROX_SIMPLE\u001b[0m\u001b[1;33m)\u001b[0m\u001b[1;33m\u001b[0m\u001b[1;33m\u001b[0m\u001b[0m\n\u001b[0m\u001b[0;32m     12\u001b[0m             \u001b[1;32mfor\u001b[0m \u001b[0mcnt\u001b[0m \u001b[1;32min\u001b[0m \u001b[0mcontours\u001b[0m\u001b[1;33m:\u001b[0m\u001b[1;33m\u001b[0m\u001b[1;33m\u001b[0m\u001b[0m\n\u001b[0;32m     13\u001b[0m                 \u001b[0mcnt_len\u001b[0m \u001b[1;33m=\u001b[0m \u001b[0mcv2\u001b[0m\u001b[1;33m.\u001b[0m\u001b[0marcLength\u001b[0m\u001b[1;33m(\u001b[0m\u001b[0mcnt\u001b[0m\u001b[1;33m,\u001b[0m \u001b[1;32mTrue\u001b[0m\u001b[1;33m)\u001b[0m\u001b[1;33m\u001b[0m\u001b[1;33m\u001b[0m\u001b[0m\n",
      "\u001b[1;31mValueError\u001b[0m: not enough values to unpack (expected 3, got 2)"
     ]
    }
   ],
   "source": [
    "\n",
    "dice = cv2.imread('aaa.png')\n",
    "squares = find_squares(dice)\n",
    "cv2.drawContours(dice, squares, -1, (0, 255, 0), 3)"
   ]
  },
  {
   "cell_type": "code",
   "execution_count": 34,
   "metadata": {},
   "outputs": [
    {
     "name": "stdout",
     "output_type": "stream",
     "text": [
      "[[ 450  508   58   58]\n",
      " [ 539  508   60   60]\n",
      " [ 365  121   66   66]\n",
      " [ 346  445   32   32]\n",
      " [ 403  461   29   29]\n",
      " [ 371  500   64   64]\n",
      " [1302   58   74   74]\n",
      " [1145  201   26   26]\n",
      " [ 349   68   41   41]\n",
      " [ 657   61   49   49]\n",
      " [ 544  123   68   68]\n",
      " [ 267  315   65   65]\n",
      " [ 845  200   52   52]\n",
      " [1072  206   26   26]\n",
      " [ 582   62   49   49]\n",
      " [ 258  117   73   73]\n",
      " [1002  208   28   28]\n",
      " [ 436  117   82   82]\n",
      " [ 286   66   48   48]\n",
      " [ 252  358   44   44]\n",
      " [ 301  368   39   39]\n",
      " [ 444  221   84   84]\n",
      " [ 346  215   85   85]\n",
      " [ 256  406   83   83]\n",
      " [1303  539   68   68]\n",
      " [ 934  279  195  195]\n",
      " [ 254  494   90   90]\n",
      " [  92  481   89   89]\n",
      " [ 231   62   63   63]\n",
      " [ 869  188   89   89]\n",
      " [ 606  493   92   92]\n",
      " [ 348  313   83   83]\n",
      " [ 619  218   84   84]\n",
      " [ 512  307  107  107]\n",
      " [1056  198   72   72]\n",
      " [ 603  405  102  102]\n",
      " [  91  281  109  109]\n",
      " [ 347  101  185  185]\n",
      " [ 438  317   86   86]\n",
      " [1159  202   53   53]\n",
      " [  89  569  102  102]\n",
      " [ 987  617   25   25]\n",
      " [1029  611   31   31]\n",
      " [ 609  308   96   96]\n",
      " [ 644  610   31   31]\n",
      " [ 995  608   36   36]\n",
      " [1039  614   32   32]\n",
      " [ 673  627   30   30]\n",
      " [1211  627   32   32]\n",
      " [1262  534  127  127]\n",
      " [ 525  208   89   89]\n",
      " [ 526  477  191  191]\n",
      " [ 256  208   94   94]\n",
      " [ 202   42  134  134]\n",
      " [ 223   46  181  181]\n",
      " [ 488   30  193  193]\n",
      " [ 838   43  147  147]\n",
      " [  74   46  110  110]\n",
      " [ 550   49  109  109]\n",
      " [  73  376  132  132]\n",
      " [ 308  177   33   33]\n",
      " [1043   50  134  134]\n",
      " [ 945   55  102  102]\n",
      " [ 299  599   51   51]\n",
      " [1097  598   49   49]\n",
      " [ 285  152   57   57]\n",
      " [ 572  603   41   41]\n",
      " [ 580  177   30   30]\n",
      " [ 388  180   28   28]\n",
      " [ 872  302  122  122]\n",
      " [ 837  171   58   58]\n",
      " [ 627  587   56   56]\n",
      " [ 796  590   74   74]\n",
      " [ 489  264  226  226]\n",
      " [ 342  408   84   84]\n",
      " [ 674  179   26   26]]\n",
      "I'm done\n"
     ]
    }
   ],
   "source": [
    "import cv2\n",
    "\n",
    "# Source data\n",
    "img_file = \"aaa.png\"\n",
    "\n",
    "# create an openCV image\n",
    "img = cv2.imread(img_file)\n",
    "\n",
    "# pre trained Car and Pedestrian classifiers\n",
    "car_classifier = 'bin\\classifier\\cascade.xml'\n",
    "\n",
    "\n",
    "# convert color image to grey image\n",
    "gray_img = cv2.cvtColor(img, cv2.COLOR_BGR2GRAY)\n",
    "\n",
    "# create trackers using classifiers using OpenCV\n",
    "car_tracker = cv2.CascadeClassifier(car_classifier)\n",
    "\n",
    "\n",
    "# detect cars\n",
    "cars = car_tracker.detectMultiScale(gray_img)\n",
    "\n",
    "\n",
    "# display the coordinates of different cars - multi dimensional array\n",
    "print(cars)\n",
    "\n",
    "\n",
    "# draw rectangle around the cars\n",
    "for (x,y,w,h) in cars:\n",
    "    cv2.rectangle(img, (x,y), (x+w, y+h), (0,255,0), 2)\n",
    "    cv2.putText(img, 'Car', (x, y - 10), cv2.FONT_HERSHEY_SIMPLEX, 0.7, (0, 255, 0), 2)\n",
    "\n",
    "\n",
    "# Finally display the image with the markings\n",
    "cv2.imshow('my detection',img)\n",
    "\n",
    "# wait for the keystroke to exit\n",
    "cv2.waitKey()\n",
    "\n",
    "\n",
    "print(\"I'm done\")"
   ]
  },
  {
   "cell_type": "code",
   "execution_count": null,
   "metadata": {},
   "outputs": [],
   "source": []
  }
 ],
 "metadata": {
  "kernelspec": {
   "display_name": "Python 3",
   "language": "python",
   "name": "python3"
  },
  "language_info": {
   "codemirror_mode": {
    "name": "ipython",
    "version": 3
   },
   "file_extension": ".py",
   "mimetype": "text/x-python",
   "name": "python",
   "nbconvert_exporter": "python",
   "pygments_lexer": "ipython3",
   "version": "3.7.4"
  }
 },
 "nbformat": 4,
 "nbformat_minor": 2
}
