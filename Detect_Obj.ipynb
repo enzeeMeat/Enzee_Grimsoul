{
 "cells": [
  {
   "cell_type": "code",
   "execution_count": 9,
   "metadata": {},
   "outputs": [
    {
     "name": "stdout",
     "output_type": "stream",
     "text": [
      "Collecting google-colab\n",
      "  Downloading https://files.pythonhosted.org/packages/70/9f/d3ec1275a089ec017f9c91af22ecd1e2fe738254b944e7a1f9528fcfacd0/google-colab-1.0.0.tar.gz (72kB)\n",
      "Collecting google-auth~=1.4.0 (from google-colab)\n",
      "  Downloading https://files.pythonhosted.org/packages/56/80/369a47c28ce7d9be6a6973338133d073864d8efbb62747e414c34a3a5f4f/google_auth-1.4.2-py2.py3-none-any.whl (64kB)\n",
      "Collecting ipykernel~=4.6.0 (from google-colab)\n",
      "  Downloading https://files.pythonhosted.org/packages/18/c3/76775a650cae2e3d9c033b26153583e61282692d9a3af12a3022d8f0cefa/ipykernel-4.6.1-py3-none-any.whl (104kB)\n",
      "Collecting ipython~=5.5.0 (from google-colab)\n",
      "  Downloading https://files.pythonhosted.org/packages/07/63/c987612bcf82c56eaacaf6bf01e31e53a244a0a3a0fb036ec5adc377e0fe/ipython-5.5.0-py3-none-any.whl (758kB)\n",
      "Collecting notebook~=5.2.0 (from google-colab)\n",
      "  Downloading https://files.pythonhosted.org/packages/96/a2/d951ebb7855743f989287486ded73cd3f66915c3ecd9c5c5a0c7ca12377a/notebook-5.2.2-py2.py3-none-any.whl (8.0MB)\n",
      "Collecting six~=1.12.0 (from google-colab)\n",
      "  Downloading https://files.pythonhosted.org/packages/73/fb/00a976f728d0d1fecfe898238ce23f502a721c0ac0ecfedb80e0d88c64e9/six-1.12.0-py2.py3-none-any.whl\n",
      "Collecting pandas~=0.24.0 (from google-colab)\n",
      "  Downloading https://files.pythonhosted.org/packages/61/c7/f943fceb712579bc538700e2c157dc4972e16abfe29bd4969149bad98c74/pandas-0.24.2-cp37-cp37m-win_amd64.whl (9.0MB)\n",
      "Collecting portpicker~=1.2.0 (from google-colab)\n",
      "  Downloading https://files.pythonhosted.org/packages/49/2c/a75ef568273036aa61319a554164e6031e31708106ea6ca10e17265e1703/portpicker-1.2.0.tar.gz\n",
      "Collecting requests~=2.21.0 (from google-colab)\n",
      "  Downloading https://files.pythonhosted.org/packages/7d/e3/20f3d364d6c8e5d2353c72a67778eb189176f08e873c9900e10c0287b84b/requests-2.21.0-py2.py3-none-any.whl (57kB)\n",
      "Collecting tornado~=4.5.0 (from google-colab)\n",
      "  Downloading https://files.pythonhosted.org/packages/e3/7b/e29ab3d51c8df66922fea216e2bddfcb6430fb29620e5165b16a216e0d3c/tornado-4.5.3.tar.gz (484kB)\n",
      "Requirement already satisfied: pyasn1-modules>=0.2.1 in c:\\programdata\\anaconda3\\lib\\site-packages (from google-auth~=1.4.0->google-colab) (0.2.8)\n",
      "Requirement already satisfied: rsa>=3.1.4 in c:\\programdata\\anaconda3\\lib\\site-packages (from google-auth~=1.4.0->google-colab) (4.7)\n",
      "Requirement already satisfied: cachetools>=2.0.0 in c:\\programdata\\anaconda3\\lib\\site-packages (from google-auth~=1.4.0->google-colab) (4.2.0)\n",
      "Requirement already satisfied: jupyter-client in c:\\programdata\\anaconda3\\lib\\site-packages (from ipykernel~=4.6.0->google-colab) (5.3.3)\n",
      "Requirement already satisfied: traitlets>=4.1.0 in c:\\programdata\\anaconda3\\lib\\site-packages (from ipykernel~=4.6.0->google-colab) (4.3.3)\n",
      "Collecting prompt-toolkit<2.0.0,>=1.0.4 (from ipython~=5.5.0->google-colab)\n",
      "  Downloading https://files.pythonhosted.org/packages/64/27/5fd61a451d086ad4aa806dc72fe1383d2bc0e74323668672287f616d5d51/prompt_toolkit-1.0.18-py3-none-any.whl (245kB)\n",
      "Requirement already satisfied: setuptools>=18.5 in c:\\programdata\\anaconda3\\lib\\site-packages (from ipython~=5.5.0->google-colab) (41.4.0)\n",
      "Requirement already satisfied: decorator in c:\\programdata\\anaconda3\\lib\\site-packages (from ipython~=5.5.0->google-colab) (4.4.0)\n",
      "Requirement already satisfied: pickleshare in c:\\programdata\\anaconda3\\lib\\site-packages (from ipython~=5.5.0->google-colab) (0.7.5)\n",
      "Requirement already satisfied: pygments in c:\\programdata\\anaconda3\\lib\\site-packages (from ipython~=5.5.0->google-colab) (2.4.2)\n",
      "Requirement already satisfied: colorama; sys_platform == \"win32\" in c:\\programdata\\anaconda3\\lib\\site-packages (from ipython~=5.5.0->google-colab) (0.4.1)\n",
      "Requirement already satisfied: simplegeneric>0.8 in c:\\programdata\\anaconda3\\lib\\site-packages (from ipython~=5.5.0->google-colab) (0.8.1)\n",
      "Requirement already satisfied: jupyter-core in c:\\programdata\\anaconda3\\lib\\site-packages (from notebook~=5.2.0->google-colab) (4.5.0)\n",
      "Requirement already satisfied: nbformat in c:\\programdata\\anaconda3\\lib\\site-packages (from notebook~=5.2.0->google-colab) (4.4.0)\n",
      "Requirement already satisfied: ipython-genutils in c:\\programdata\\anaconda3\\lib\\site-packages (from notebook~=5.2.0->google-colab) (0.2.0)\n",
      "Requirement already satisfied: jinja2 in c:\\programdata\\anaconda3\\lib\\site-packages (from notebook~=5.2.0->google-colab) (2.10.3)\n",
      "Requirement already satisfied: nbconvert in c:\\programdata\\anaconda3\\lib\\site-packages (from notebook~=5.2.0->google-colab) (5.6.0)\n",
      "Requirement already satisfied: pytz>=2011k in c:\\users\\hp\\appdata\\roaming\\python\\python37\\site-packages (from pandas~=0.24.0->google-colab) (2019.3)\n",
      "Requirement already satisfied: numpy>=1.12.0 in c:\\programdata\\anaconda3\\lib\\site-packages (from pandas~=0.24.0->google-colab) (1.19.3)\n",
      "Requirement already satisfied: python-dateutil>=2.5.0 in c:\\programdata\\anaconda3\\lib\\site-packages (from pandas~=0.24.0->google-colab) (2.8.0)\n",
      "Requirement already satisfied: urllib3<1.25,>=1.21.1 in c:\\programdata\\anaconda3\\lib\\site-packages (from requests~=2.21.0->google-colab) (1.24.2)\n",
      "Requirement already satisfied: chardet<3.1.0,>=3.0.2 in c:\\programdata\\anaconda3\\lib\\site-packages (from requests~=2.21.0->google-colab) (3.0.4)\n",
      "Requirement already satisfied: certifi>=2017.4.17 in c:\\programdata\\anaconda3\\lib\\site-packages (from requests~=2.21.0->google-colab) (2020.12.5)\n",
      "Requirement already satisfied: idna<2.9,>=2.5 in c:\\programdata\\anaconda3\\lib\\site-packages (from requests~=2.21.0->google-colab) (2.8)\n",
      "Requirement already satisfied: pyasn1<0.5.0,>=0.4.6 in c:\\programdata\\anaconda3\\lib\\site-packages (from pyasn1-modules>=0.2.1->google-auth~=1.4.0->google-colab) (0.4.8)\n",
      "Requirement already satisfied: pywin32>=1.0; sys_platform == \"win32\" in c:\\programdata\\anaconda3\\lib\\site-packages (from jupyter-client->ipykernel~=4.6.0->google-colab) (223)\n",
      "Requirement already satisfied: pyzmq>=13 in c:\\programdata\\anaconda3\\lib\\site-packages (from jupyter-client->ipykernel~=4.6.0->google-colab) (18.1.0)\n",
      "Requirement already satisfied: wcwidth in c:\\programdata\\anaconda3\\lib\\site-packages (from prompt-toolkit<2.0.0,>=1.0.4->ipython~=5.5.0->google-colab) (0.1.7)\n",
      "Requirement already satisfied: jsonschema!=2.5.0,>=2.4 in c:\\programdata\\anaconda3\\lib\\site-packages (from nbformat->notebook~=5.2.0->google-colab) (3.0.2)\n",
      "Requirement already satisfied: MarkupSafe>=0.23 in c:\\programdata\\anaconda3\\lib\\site-packages (from jinja2->notebook~=5.2.0->google-colab) (1.1.1)\n",
      "Requirement already satisfied: defusedxml in c:\\programdata\\anaconda3\\lib\\site-packages (from nbconvert->notebook~=5.2.0->google-colab) (0.6.0)\n",
      "Requirement already satisfied: mistune<2,>=0.8.1 in c:\\programdata\\anaconda3\\lib\\site-packages (from nbconvert->notebook~=5.2.0->google-colab) (0.8.4)\n",
      "Requirement already satisfied: entrypoints>=0.2.2 in c:\\programdata\\anaconda3\\lib\\site-packages (from nbconvert->notebook~=5.2.0->google-colab) (0.3)\n",
      "Requirement already satisfied: pandocfilters>=1.4.1 in c:\\programdata\\anaconda3\\lib\\site-packages (from nbconvert->notebook~=5.2.0->google-colab) (1.4.2)\n",
      "Requirement already satisfied: testpath in c:\\programdata\\anaconda3\\lib\\site-packages (from nbconvert->notebook~=5.2.0->google-colab) (0.4.2)\n",
      "Requirement already satisfied: bleach in c:\\programdata\\anaconda3\\lib\\site-packages (from nbconvert->notebook~=5.2.0->google-colab) (3.1.0)\n",
      "Requirement already satisfied: attrs>=17.4.0 in c:\\programdata\\anaconda3\\lib\\site-packages (from jsonschema!=2.5.0,>=2.4->nbformat->notebook~=5.2.0->google-colab) (19.2.0)\n",
      "Requirement already satisfied: pyrsistent>=0.14.0 in c:\\programdata\\anaconda3\\lib\\site-packages (from jsonschema!=2.5.0,>=2.4->nbformat->notebook~=5.2.0->google-colab) (0.15.4)\n",
      "Requirement already satisfied: webencodings in c:\\programdata\\anaconda3\\lib\\site-packages (from bleach->nbconvert->notebook~=5.2.0->google-colab) (0.5.1)\n",
      "Building wheels for collected packages: google-colab, portpicker, tornado\n",
      "  Building wheel for google-colab (setup.py): started\n",
      "  Building wheel for google-colab (setup.py): finished with status 'done'\n",
      "  Created wheel for google-colab: filename=google_colab-1.0.0-py2.py3-none-any.whl size=102293 sha256=4da18f82250c2a4af5b2e213477b3a44c06d9313b51248480a0e8eab571e89f6\n",
      "  Stored in directory: C:\\Users\\HP\\AppData\\Local\\pip\\Cache\\wheels\\38\\0d\\59\\701e300a337b2a2e07b27fe74dbfff0bc56ac58f711566ee67\n",
      "  Building wheel for portpicker (setup.py): started\n",
      "  Building wheel for portpicker (setup.py): finished with status 'done'\n",
      "  Created wheel for portpicker: filename=portpicker-1.2.0-cp37-none-any.whl size=13367 sha256=4d29218b959f95790ff2ba2eea5f35f29990cf6bb22da7d86e11ee04551d1634\n",
      "  Stored in directory: C:\\Users\\HP\\AppData\\Local\\pip\\Cache\\wheels\\4a\\45\\47\\1e126be9d4605e71f00d6e6fb151611f2f4cb9770b050c7d2d\n",
      "  Building wheel for tornado (setup.py): started\n",
      "  Building wheel for tornado (setup.py): finished with status 'done'\n",
      "  Created wheel for tornado: filename=tornado-4.5.3-cp37-cp37m-win_amd64.whl size=420774 sha256=0f4a986f069b8d9d4b8f37f87c2e143174f2e699d364acf1e7360a7da2656ba4\n",
      "  Stored in directory: C:\\Users\\HP\\AppData\\Local\\pip\\Cache\\wheels\\72\\bf\\f4\\b68fa69596986881b397b18ff2b9af5f8181233aadcc9f76fd\n",
      "Successfully built google-colab portpicker tornado\n",
      "Installing collected packages: six, google-auth, tornado, prompt-toolkit, ipython, ipykernel, notebook, pandas, portpicker, requests, google-colab\n",
      "  Found existing installation: six 1.15.0\n",
      "    Uninstalling six-1.15.0:\n",
      "Note: you may need to restart the kernel to use updated packages.\n"
     ]
    },
    {
     "name": "stderr",
     "output_type": "stream",
     "text": [
      "ERROR: astroid 2.3.1 requires typed-ast<1.5,>=1.4.0; implementation_name == \"cpython\" and python_version < \"3.8\", which is not installed.\n",
      "ERROR: tensorflow 2.4.0 has requirement six~=1.15.0, but you'll have six 1.12.0 which is incompatible.\n",
      "ERROR: tensorboard 2.4.1 has requirement google-auth<2,>=1.6.3, but you'll have google-auth 1.4.2 which is incompatible.\n",
      "ERROR: spyder-kernels 0.5.2 has requirement ipykernel>=4.8.2, but you'll have ipykernel 4.6.1 which is incompatible.\n",
      "ERROR: jupyter-console 6.0.0 has requirement prompt_toolkit<2.1.0,>=2.0.0, but you'll have prompt-toolkit 1.0.18 which is incompatible.\n",
      "ERROR: distributed 2.5.2 has requirement tornado>=5, but you'll have tornado 4.5.3 which is incompatible.\n",
      "ERROR: astroid 2.3.1 has requirement wrapt==1.11.*, but you'll have wrapt 1.12.1 which is incompatible.\n",
      "ERROR: Could not install packages due to an EnvironmentError: [WinError 5] Access is denied: 'c:\\\\programdata\\\\anaconda3\\\\lib\\\\site-packages\\\\__pycache__\\\\six.cpython-37.pyc'\n",
      "Consider using the `--user` option or check the permissions.\n",
      "\n"
     ]
    }
   ],
   "source": [
    "pip install google-colab"
   ]
  },
  {
   "cell_type": "code",
   "execution_count": 1,
   "metadata": {},
   "outputs": [
    {
     "ename": "error",
     "evalue": "OpenCV(4.5.1) C:\\Users\\appveyor\\AppData\\Local\\Temp\\1\\pip-req-build-oduouqig\\opencv\\modules\\imgproc\\src\\color.cpp:182: error: (-215:Assertion failed) !_src.empty() in function 'cv::cvtColor'\n",
     "output_type": "error",
     "traceback": [
      "\u001b[1;31m---------------------------------------------------------------------------\u001b[0m",
      "\u001b[1;31merror\u001b[0m                                     Traceback (most recent call last)",
      "\u001b[1;32m<ipython-input-1-772aa962543a>\u001b[0m in \u001b[0;36m<module>\u001b[1;34m\u001b[0m\n\u001b[0;32m     10\u001b[0m \u001b[1;31m# we also need a grayscale\u001b[0m\u001b[1;33m\u001b[0m\u001b[1;33m\u001b[0m\u001b[1;33m\u001b[0m\u001b[0m\n\u001b[0;32m     11\u001b[0m \u001b[1;31m# version\u001b[0m\u001b[1;33m\u001b[0m\u001b[1;33m\u001b[0m\u001b[1;33m\u001b[0m\u001b[0m\n\u001b[1;32m---> 12\u001b[1;33m \u001b[0mimg_gray\u001b[0m \u001b[1;33m=\u001b[0m \u001b[0mcv2\u001b[0m\u001b[1;33m.\u001b[0m\u001b[0mcvtColor\u001b[0m\u001b[1;33m(\u001b[0m\u001b[0mimg\u001b[0m\u001b[1;33m,\u001b[0m \u001b[0mcv2\u001b[0m\u001b[1;33m.\u001b[0m\u001b[0mCOLOR_BGR2GRAY\u001b[0m\u001b[1;33m)\u001b[0m\u001b[1;33m\u001b[0m\u001b[1;33m\u001b[0m\u001b[0m\n\u001b[0m\u001b[0;32m     13\u001b[0m \u001b[0mimg_rgb\u001b[0m \u001b[1;33m=\u001b[0m \u001b[0mcv2\u001b[0m\u001b[1;33m.\u001b[0m\u001b[0mcvtColor\u001b[0m\u001b[1;33m(\u001b[0m\u001b[0mimg\u001b[0m\u001b[1;33m,\u001b[0m \u001b[0mcv2\u001b[0m\u001b[1;33m.\u001b[0m\u001b[0mCOLOR_BGR2RGB\u001b[0m\u001b[1;33m)\u001b[0m\u001b[1;33m\u001b[0m\u001b[1;33m\u001b[0m\u001b[0m\n\u001b[0;32m     14\u001b[0m \u001b[1;33m\u001b[0m\u001b[0m\n",
      "\u001b[1;31merror\u001b[0m: OpenCV(4.5.1) C:\\Users\\appveyor\\AppData\\Local\\Temp\\1\\pip-req-build-oduouqig\\opencv\\modules\\imgproc\\src\\color.cpp:182: error: (-215:Assertion failed) !_src.empty() in function 'cv::cvtColor'\n"
     ]
    }
   ],
   "source": [
    "import cv2 \n",
    "from matplotlib import pyplot as plt \n",
    "\n",
    "# Opening image \n",
    "img = cv2.imread(\"Chi_Off.png\") \n",
    "\n",
    "# OpenCV opens images as BRG \n",
    "# but we want it as RGB We'll \n",
    "# also need a grayscale version \n",
    "img_gray = cv2.cvtColor(img, cv2.COLOR_BGR2GRAY) \n",
    "img_rgb = cv2.cvtColor(img, cv2.COLOR_BGR2RGB) \n",
    "\n",
    "\n",
    "# Use minSize because for not \n",
    "# bothering with extra-small \n",
    "# dots that would look like STOP signs \n",
    "stop_data = cv2.CascadeClassifier('stop_data.xml') \n",
    "\n",
    "found = stop_data.detectMultiScale(img_gray, minSize =(20, 20)) \n",
    "\n",
    "# Don't do anything if there's \n",
    "# no sign \n",
    "amount_found = len(found) \n",
    "\n",
    "if amount_found != 0: \n",
    "\n",
    "    # There may be more than one \n",
    "    # sign in the image \n",
    "    for (x, y, width, height) in found: \n",
    "\n",
    "        # We draw a green rectangle around \n",
    "        # every recognized sign \n",
    "        cv2.rectangle(img_rgb, (x, y), \n",
    "                        (x + height, y + width), \n",
    "                        (0, 255, 0), 5) \n",
    "\n",
    "    # Creates the environment of \n",
    "# the picture and shows it \n",
    "plt.subplot(1, 1, 1) \n",
    "plt.imshow(img_rgb) \n",
    "plt.show() \n"
   ]
  },
  {
   "cell_type": "code",
   "execution_count": 2,
   "metadata": {},
   "outputs": [
    {
     "name": "stdout",
     "output_type": "stream",
     "text": [
      "Image Properties\n",
      "- Number of Pixels: 3001500\n",
      "- Shape/Dimensions: (750, 1334, 3)\n"
     ]
    }
   ],
   "source": [
    "import cv2\n",
    "\n",
    "img = cv2.imread('Chi_Off.png')\n",
    "\n",
    "print(\"Image Properties\")\n",
    "print(\"- Number of Pixels: \" + str(img.size))\n",
    "print(\"- Shape/Dimensions: \" + str(img.shape))"
   ]
  },
  {
   "cell_type": "code",
   "execution_count": 10,
   "metadata": {},
   "outputs": [
    {
     "ename": "ModuleNotFoundError",
     "evalue": "No module named 'google.colab'",
     "output_type": "error",
     "traceback": [
      "\u001b[1;31m---------------------------------------------------------------------------\u001b[0m",
      "\u001b[1;31mModuleNotFoundError\u001b[0m                       Traceback (most recent call last)",
      "\u001b[1;32m<ipython-input-10-b22cefcd9340>\u001b[0m in \u001b[0;36m<module>\u001b[1;34m\u001b[0m\n\u001b[1;32m----> 1\u001b[1;33m \u001b[1;32mfrom\u001b[0m \u001b[0mgoogle\u001b[0m\u001b[1;33m.\u001b[0m\u001b[0mcolab\u001b[0m\u001b[1;33m.\u001b[0m\u001b[0mpatches\u001b[0m \u001b[1;32mimport\u001b[0m \u001b[0mcv2_imshow\u001b[0m\u001b[1;33m\u001b[0m\u001b[1;33m\u001b[0m\u001b[0m\n\u001b[0m\u001b[0;32m      2\u001b[0m \u001b[1;33m\u001b[0m\u001b[0m\n\u001b[0;32m      3\u001b[0m \u001b[0mblue\u001b[0m\u001b[1;33m,\u001b[0m \u001b[0mgreen\u001b[0m\u001b[1;33m,\u001b[0m \u001b[0mred\u001b[0m \u001b[1;33m=\u001b[0m \u001b[0mcv2\u001b[0m\u001b[1;33m.\u001b[0m\u001b[0msplit\u001b[0m\u001b[1;33m(\u001b[0m\u001b[0mimg\u001b[0m\u001b[1;33m)\u001b[0m \u001b[1;31m# Split the image into its channels\u001b[0m\u001b[1;33m\u001b[0m\u001b[1;33m\u001b[0m\u001b[0m\n\u001b[0;32m      4\u001b[0m \u001b[0mimg_gs\u001b[0m \u001b[1;33m=\u001b[0m \u001b[0mcv2\u001b[0m\u001b[1;33m.\u001b[0m\u001b[0mimread\u001b[0m\u001b[1;33m(\u001b[0m\u001b[1;34m'Chi_Off.png'\u001b[0m\u001b[1;33m,\u001b[0m \u001b[0mcv2\u001b[0m\u001b[1;33m.\u001b[0m\u001b[0mIMREAD_GRAYSCALE\u001b[0m\u001b[1;33m)\u001b[0m \u001b[1;31m# Convert image to grayscale\u001b[0m\u001b[1;33m\u001b[0m\u001b[1;33m\u001b[0m\u001b[0m\n\u001b[0;32m      5\u001b[0m \u001b[1;33m\u001b[0m\u001b[0m\n",
      "\u001b[1;31mModuleNotFoundError\u001b[0m: No module named 'google.colab'"
     ]
    }
   ],
   "source": [
    "from google.colab.patches import cv2_imshow\n",
    "\n",
    "blue, green, red = cv2.split(img) # Split the image into its channels\n",
    "img_gs = cv2.imread('Chi_Off.png', cv2.IMREAD_GRAYSCALE) # Convert image to grayscale\n",
    "\n",
    "cv2_imshow(red) # Display the red channel in the image\n",
    "cv2_imshow(blue) # Display the red channel in the image\n",
    "cv2_imshow(green) # Display the red channel in the image\n",
    "cv2_imshow(img_gs) # Display the grayscale version of image"
   ]
  },
  {
   "cell_type": "code",
   "execution_count": 11,
   "metadata": {},
   "outputs": [
    {
     "ename": "NameError",
     "evalue": "name 'cv2_imshow' is not defined",
     "output_type": "error",
     "traceback": [
      "\u001b[1;31m---------------------------------------------------------------------------\u001b[0m",
      "\u001b[1;31mNameError\u001b[0m                                 Traceback (most recent call last)",
      "\u001b[1;32m<ipython-input-11-b1cb927bd8d8>\u001b[0m in \u001b[0;36m<module>\u001b[1;34m\u001b[0m\n\u001b[0;32m      6\u001b[0m \u001b[1;31m# Perform binary thresholding on the image with T = 125\u001b[0m\u001b[1;33m\u001b[0m\u001b[1;33m\u001b[0m\u001b[1;33m\u001b[0m\u001b[0m\n\u001b[0;32m      7\u001b[0m \u001b[0mr\u001b[0m\u001b[1;33m,\u001b[0m \u001b[0mthreshold\u001b[0m \u001b[1;33m=\u001b[0m \u001b[0mcv2\u001b[0m\u001b[1;33m.\u001b[0m\u001b[0mthreshold\u001b[0m\u001b[1;33m(\u001b[0m\u001b[0mimg\u001b[0m\u001b[1;33m,\u001b[0m \u001b[1;36m125\u001b[0m\u001b[1;33m,\u001b[0m \u001b[1;36m255\u001b[0m\u001b[1;33m,\u001b[0m \u001b[0mcv2\u001b[0m\u001b[1;33m.\u001b[0m\u001b[0mTHRESH_BINARY\u001b[0m\u001b[1;33m)\u001b[0m\u001b[1;33m\u001b[0m\u001b[1;33m\u001b[0m\u001b[0m\n\u001b[1;32m----> 8\u001b[1;33m \u001b[0mcv2_imshow\u001b[0m\u001b[1;33m(\u001b[0m\u001b[0mthreshold\u001b[0m\u001b[1;33m)\u001b[0m\u001b[1;33m\u001b[0m\u001b[1;33m\u001b[0m\u001b[0m\n\u001b[0m",
      "\u001b[1;31mNameError\u001b[0m: name 'cv2_imshow' is not defined"
     ]
    }
   ],
   "source": [
    "import cv2\n",
    "\n",
    "# Read image\n",
    "img = cv2.imread('Chi_Off.png', 0)\n",
    "\n",
    "# Perform binary thresholding on the image with T = 125\n",
    "r, threshold = cv2.threshold(img, 125, 255, cv2.THRESH_BINARY)\n",
    "cv2_imshow(threshold)"
   ]
  },
  {
   "cell_type": "code",
   "execution_count": 6,
   "metadata": {},
   "outputs": [
    {
     "ename": "NameError",
     "evalue": "name 'img_gs' is not defined",
     "output_type": "error",
     "traceback": [
      "\u001b[1;31m---------------------------------------------------------------------------\u001b[0m",
      "\u001b[1;31mNameError\u001b[0m                                 Traceback (most recent call last)",
      "\u001b[1;32m<ipython-input-6-5e613e2eaefc>\u001b[0m in \u001b[0;36m<module>\u001b[1;34m\u001b[0m\n\u001b[0;32m     27\u001b[0m \u001b[1;31m# Call salt & pepper function with probability = 0.5\u001b[0m\u001b[1;33m\u001b[0m\u001b[1;33m\u001b[0m\u001b[1;33m\u001b[0m\u001b[0m\n\u001b[0;32m     28\u001b[0m \u001b[1;31m# on the grayscale image of rose\u001b[0m\u001b[1;33m\u001b[0m\u001b[1;33m\u001b[0m\u001b[1;33m\u001b[0m\u001b[0m\n\u001b[1;32m---> 29\u001b[1;33m \u001b[0msp_05\u001b[0m \u001b[1;33m=\u001b[0m \u001b[0msalt_pepper\u001b[0m\u001b[1;33m(\u001b[0m\u001b[1;36m0.5\u001b[0m\u001b[1;33m)\u001b[0m\u001b[1;33m\u001b[0m\u001b[1;33m\u001b[0m\u001b[0m\n\u001b[0m\u001b[0;32m     30\u001b[0m \u001b[1;33m\u001b[0m\u001b[0m\n\u001b[0;32m     31\u001b[0m \u001b[1;31m# Store the resultant image as 'sp_05.jpg'\u001b[0m\u001b[1;33m\u001b[0m\u001b[1;33m\u001b[0m\u001b[1;33m\u001b[0m\u001b[0m\n",
      "\u001b[1;32m<ipython-input-6-5e613e2eaefc>\u001b[0m in \u001b[0;36msalt_pepper\u001b[1;34m(prob)\u001b[0m\n\u001b[0;32m      4\u001b[0m \u001b[1;32mdef\u001b[0m \u001b[0msalt_pepper\u001b[0m\u001b[1;33m(\u001b[0m\u001b[0mprob\u001b[0m\u001b[1;33m)\u001b[0m\u001b[1;33m:\u001b[0m\u001b[1;33m\u001b[0m\u001b[1;33m\u001b[0m\u001b[0m\n\u001b[0;32m      5\u001b[0m       \u001b[1;31m# Extract image dimensions\u001b[0m\u001b[1;33m\u001b[0m\u001b[1;33m\u001b[0m\u001b[1;33m\u001b[0m\u001b[0m\n\u001b[1;32m----> 6\u001b[1;33m       \u001b[0mrow\u001b[0m\u001b[1;33m,\u001b[0m \u001b[0mcol\u001b[0m \u001b[1;33m=\u001b[0m \u001b[0mimg_gs\u001b[0m\u001b[1;33m.\u001b[0m\u001b[0mshape\u001b[0m\u001b[1;33m\u001b[0m\u001b[1;33m\u001b[0m\u001b[0m\n\u001b[0m\u001b[0;32m      7\u001b[0m \u001b[1;33m\u001b[0m\u001b[0m\n\u001b[0;32m      8\u001b[0m       \u001b[1;31m# Declare salt & pepper noise ratio\u001b[0m\u001b[1;33m\u001b[0m\u001b[1;33m\u001b[0m\u001b[1;33m\u001b[0m\u001b[0m\n",
      "\u001b[1;31mNameError\u001b[0m: name 'img_gs' is not defined"
     ]
    }
   ],
   "source": [
    "import numpy as np\n",
    "\n",
    "# Adding salt & pepper noise to an image\n",
    "def salt_pepper(prob):\n",
    "      # Extract image dimensions\n",
    "      row, col = img_gs.shape\n",
    "\n",
    "      # Declare salt & pepper noise ratio\n",
    "      s_vs_p = 0.5\n",
    "      output = np.copy(img_gs)\n",
    "\n",
    "      # Apply salt noise on each pixel individually\n",
    "      num_salt = np.ceil(prob * img_gs.size * s_vs_p)\n",
    "      coords = [np.random.randint(0, i - 1, int(num_salt))\n",
    "            for i in img_gs.shape]\n",
    "      output[coords] = 1\n",
    "\n",
    "      # Apply pepper noise on each pixel individually\n",
    "      num_pepper = np.ceil(prob * img_gs.size * (1. - s_vs_p))\n",
    "      coords = [np.random.randint(0, i - 1, int(num_pepper))\n",
    "            for i in img_gs.shape]\n",
    "      output[coords] = 0\n",
    "      cv2_imshow(output)\n",
    "\n",
    "      return output\n",
    "\n",
    "# Call salt & pepper function with probability = 0.5\n",
    "# on the grayscale image of rose\n",
    "sp_05 = salt_pepper(0.5)\n",
    "\n",
    "# Store the resultant image as 'sp_05.jpg'\n",
    "cv2.imwrite('sp_05.jpg', sp_05)\n",
    "\n",
    "# Create our sharpening kernel, the sum of all values must equal to one for uniformity\n",
    "kernel_sharpening = np.array([[-1,-1,-1],\n",
    "                              [-1, 9,-1],\n",
    "                              [-1,-1,-1]])\n",
    "\n",
    "# Applying the sharpening kernel to the grayscale image & displaying it.\n",
    "print(\"\\n\\n--- Effects on S&P Noise Image with Probability 0.5 ---\\n\\n\")\n",
    "\n",
    "# Applying filter on image with salt & pepper noise\n",
    "sharpened_img = cv2.filter2D(sp_05, -1, kernel_sharpening)\n",
    "cv2_imshow(sharpened_img)"
   ]
  },
  {
   "cell_type": "code",
   "execution_count": 5,
   "metadata": {},
   "outputs": [
    {
     "name": "stdout",
     "output_type": "stream",
     "text": [
      "\n",
      "\n",
      "---Effects on S&P Noise Image with Probability 0.5---\n",
      "\n",
      "\n"
     ]
    },
    {
     "ename": "NameError",
     "evalue": "name 'sp_05' is not defined",
     "output_type": "error",
     "traceback": [
      "\u001b[1;31m---------------------------------------------------------------------------\u001b[0m",
      "\u001b[1;31mNameError\u001b[0m                                 Traceback (most recent call last)",
      "\u001b[1;32m<ipython-input-5-43de5b8c8957>\u001b[0m in \u001b[0;36m<module>\u001b[1;34m\u001b[0m\n\u001b[0;32m      8\u001b[0m \u001b[1;33m\u001b[0m\u001b[0m\n\u001b[0;32m      9\u001b[0m \u001b[0mprint\u001b[0m\u001b[1;33m(\u001b[0m\u001b[1;34m\"\\n\\n---Effects on S&P Noise Image with Probability 0.5---\\n\\n\"\u001b[0m\u001b[1;33m)\u001b[0m\u001b[1;33m\u001b[0m\u001b[1;33m\u001b[0m\u001b[0m\n\u001b[1;32m---> 10\u001b[1;33m \u001b[0mmidpoint\u001b[0m\u001b[1;33m(\u001b[0m\u001b[0msp_05\u001b[0m\u001b[1;33m)\u001b[0m\u001b[1;33m\u001b[0m\u001b[1;33m\u001b[0m\u001b[0m\n\u001b[0m",
      "\u001b[1;31mNameError\u001b[0m: name 'sp_05' is not defined"
     ]
    }
   ],
   "source": [
    "from scipy.ndimage import maximum_filter, minimum_filter\n",
    "\n",
    "def midpoint(img):\n",
    "    maxf = maximum_filter(img, (3, 3))\n",
    "    minf = minimum_filter(img, (3, 3))\n",
    "    midpoint = (maxf + minf) / 2\n",
    "    cv2_imshow(midpoint)\n",
    "\n",
    "print(\"\\n\\n---Effects on S&P Noise Image with Probability 0.5---\\n\\n\")\n",
    "midpoint(sp_05)"
   ]
  },
  {
   "cell_type": "code",
   "execution_count": 4,
   "metadata": {},
   "outputs": [
    {
     "name": "stdout",
     "output_type": "stream",
     "text": [
      "\n",
      "\n",
      "--- Effects on S&P Noise Image with Probability 0.5 ---\n",
      "\n",
      "\n"
     ]
    },
    {
     "ename": "NameError",
     "evalue": "name 'cv2_imshow' is not defined",
     "output_type": "error",
     "traceback": [
      "\u001b[1;31m---------------------------------------------------------------------------\u001b[0m",
      "\u001b[1;31mNameError\u001b[0m                                 Traceback (most recent call last)",
      "\u001b[1;32m<ipython-input-4-9e14c7197414>\u001b[0m in \u001b[0;36m<module>\u001b[1;34m\u001b[0m\n\u001b[0;32m      7\u001b[0m \u001b[1;33m\u001b[0m\u001b[0m\n\u001b[0;32m      8\u001b[0m \u001b[0mprint\u001b[0m\u001b[1;33m(\u001b[0m\u001b[1;34m\"\\n\\n--- Effects on S&P Noise Image with Probability 0.5 ---\\n\\n\"\u001b[0m\u001b[1;33m)\u001b[0m\u001b[1;33m\u001b[0m\u001b[1;33m\u001b[0m\u001b[0m\n\u001b[1;32m----> 9\u001b[1;33m \u001b[0mcv2_imshow\u001b[0m\u001b[1;33m(\u001b[0m\u001b[0mcontraharmonic_mean\u001b[0m\u001b[1;33m(\u001b[0m\u001b[0msp_05\u001b[0m\u001b[1;33m,\u001b[0m \u001b[1;33m(\u001b[0m\u001b[1;36m3\u001b[0m\u001b[1;33m,\u001b[0m\u001b[1;36m3\u001b[0m\u001b[1;33m)\u001b[0m\u001b[1;33m,\u001b[0m \u001b[1;36m0.5\u001b[0m\u001b[1;33m)\u001b[0m\u001b[1;33m)\u001b[0m\u001b[1;33m\u001b[0m\u001b[1;33m\u001b[0m\u001b[0m\n\u001b[0m",
      "\u001b[1;31mNameError\u001b[0m: name 'cv2_imshow' is not defined"
     ]
    }
   ],
   "source": [
    "def contraharmonic_mean(img, size, Q):\n",
    "    num = np.power(img, Q + 1)\n",
    "    denom = np.power(img, Q)\n",
    "    kernel = np.full(size, 1.0)\n",
    "    result = cv2.filter2D(num, -1, kernel) / cv2.filter2D(denom, -1, kernel)\n",
    "    return result\n",
    "\n",
    "print(\"\\n\\n--- Effects on S&P Noise Image with Probability 0.5 ---\\n\\n\")\n",
    "cv2_imshow(contraharmonic_mean(sp_05, (3,3), 0.5))"
   ]
  },
  {
   "cell_type": "code",
   "execution_count": null,
   "metadata": {},
   "outputs": [],
   "source": [
    "import cv2\n",
    "import numpy as np\n",
    "from matplotlib import pyplot as plt\n",
    "\n",
    "# Declaring the output graph's size\n",
    "plt.figure(figsize=(16, 16))\n",
    "\n",
    "# Convert image to grayscale\n",
    "img_gs = cv2.imread('Chi_Off.png', cv2.IMREAD_GRAYSCALE)\n",
    "cv2.imwrite('gs.jpg', img_gs)\n",
    "\n",
    "# Apply canny edge detector algorithm on the image to find edges\n",
    "edges = cv2.Canny(img_gs, 100,200)\n",
    "\n",
    "# Plot the original image against the edges\n",
    "plt.subplot(121), plt.imshow(img_gs)\n",
    "plt.title('Original Gray Scale Image')\n",
    "plt.subplot(122), plt.imshow(edges)\n",
    "plt.title('Edge Image')\n",
    "\n",
    "# Display the two images\n",
    "plt.show()"
   ]
  }
 ],
 "metadata": {
  "kernelspec": {
   "display_name": "Python 3",
   "language": "python",
   "name": "python3"
  },
  "language_info": {
   "codemirror_mode": {
    "name": "ipython",
    "version": 3
   },
   "file_extension": ".py",
   "mimetype": "text/x-python",
   "name": "python",
   "nbconvert_exporter": "python",
   "pygments_lexer": "ipython3",
   "version": "3.7.4"
  }
 },
 "nbformat": 4,
 "nbformat_minor": 2
}
