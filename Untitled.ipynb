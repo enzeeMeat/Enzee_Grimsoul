{
 "cells": [
  {
   "cell_type": "code",
   "execution_count": 16,
   "metadata": {},
   "outputs": [
    {
     "name": "stdout",
     "output_type": "stream",
     "text": [
      "Requirement already satisfied: scikit-learn in c:\\programdata\\anaconda3\\lib\\site-packages (0.21.3)\n",
      "Requirement already satisfied: numpy>=1.11.0 in c:\\programdata\\anaconda3\\lib\\site-packages (from scikit-learn) (1.19.3)\n",
      "Requirement already satisfied: scipy>=0.17.0 in c:\\programdata\\anaconda3\\lib\\site-packages (from scikit-learn) (1.4.1)\n",
      "Requirement already satisfied: joblib>=0.11 in c:\\programdata\\anaconda3\\lib\\site-packages (from scikit-learn) (0.13.2)\n",
      "Note: you may need to restart the kernel to use updated packages.\n"
     ]
    }
   ],
   "source": [
    "pip install --exists-action=i scikit-learn"
   ]
  },
  {
   "cell_type": "code",
   "execution_count": 17,
   "metadata": {},
   "outputs": [
    {
     "ename": "ImportError",
     "evalue": "cannot import name 'imsave' from 'scipy.misc' (C:\\ProgramData\\Anaconda3\\lib\\site-packages\\scipy\\misc\\__init__.py)",
     "output_type": "error",
     "traceback": [
      "\u001b[1;31m---------------------------------------------------------------------------\u001b[0m",
      "\u001b[1;31mImportError\u001b[0m                               Traceback (most recent call last)",
      "\u001b[1;32m<ipython-input-17-9bee11f2cb9d>\u001b[0m in \u001b[0;36m<module>\u001b[1;34m\u001b[0m\n\u001b[0;32m      3\u001b[0m \u001b[1;32mfrom\u001b[0m \u001b[0mskimage\u001b[0m\u001b[1;33m.\u001b[0m\u001b[0mtransform\u001b[0m \u001b[1;32mimport\u001b[0m \u001b[0mresize\u001b[0m\u001b[1;33m\u001b[0m\u001b[1;33m\u001b[0m\u001b[0m\n\u001b[0;32m      4\u001b[0m \u001b[1;32mfrom\u001b[0m \u001b[0mscipy\u001b[0m\u001b[1;33m.\u001b[0m\u001b[0mstats\u001b[0m \u001b[1;32mimport\u001b[0m \u001b[0mwasserstein_distance\u001b[0m\u001b[1;33m\u001b[0m\u001b[1;33m\u001b[0m\u001b[0m\n\u001b[1;32m----> 5\u001b[1;33m \u001b[1;32mfrom\u001b[0m \u001b[0mscipy\u001b[0m\u001b[1;33m.\u001b[0m\u001b[0mmisc\u001b[0m \u001b[1;32mimport\u001b[0m \u001b[0mimsave\u001b[0m\u001b[1;33m\u001b[0m\u001b[1;33m\u001b[0m\u001b[0m\n\u001b[0m\u001b[0;32m      6\u001b[0m \u001b[1;32mfrom\u001b[0m \u001b[0mscipy\u001b[0m\u001b[1;33m.\u001b[0m\u001b[0mndimage\u001b[0m \u001b[1;32mimport\u001b[0m \u001b[0mimread\u001b[0m\u001b[1;33m\u001b[0m\u001b[1;33m\u001b[0m\u001b[0m\n\u001b[0;32m      7\u001b[0m \u001b[1;32mimport\u001b[0m \u001b[0mnumpy\u001b[0m \u001b[1;32mas\u001b[0m \u001b[0mnp\u001b[0m\u001b[1;33m\u001b[0m\u001b[1;33m\u001b[0m\u001b[0m\n",
      "\u001b[1;31mImportError\u001b[0m: cannot import name 'imsave' from 'scipy.misc' (C:\\ProgramData\\Anaconda3\\lib\\site-packages\\scipy\\misc\\__init__.py)"
     ]
    }
   ],
   "source": [
    "import warnings\n",
    "from skimage.measure import compare_ssim\n",
    "from skimage.transform import resize\n",
    "from scipy.stats import wasserstein_distance\n",
    "from scipy.misc import imsave\n",
    "from scipy.ndimage import imread\n",
    "import numpy as np\n",
    "import cv2\n",
    "\n",
    "##\n",
    "# Globals\n",
    "##\n",
    "\n",
    "warnings.filterwarnings('ignore')\n",
    "\n",
    "# specify resized image sizes\n",
    "height = 2**10\n",
    "width = 2**10\n",
    "\n",
    "##\n",
    "# Functions\n",
    "##\n"
   ]
  },
  {
   "cell_type": "code",
   "execution_count": 20,
   "metadata": {},
   "outputs": [
    {
     "ename": "NameError",
     "evalue": "name 'norm_size' is not defined",
     "output_type": "error",
     "traceback": [
      "\u001b[1;31m---------------------------------------------------------------------------\u001b[0m",
      "\u001b[1;31mNameError\u001b[0m                                 Traceback (most recent call last)",
      "\u001b[1;32m<ipython-input-20-6aa82e8b72b7>\u001b[0m in \u001b[0;36m<module>\u001b[1;34m\u001b[0m\n\u001b[0;32m      6\u001b[0m     \u001b[0mimg\u001b[0m \u001b[1;33m=\u001b[0m \u001b[0mimread\u001b[0m\u001b[1;33m(\u001b[0m\u001b[0mpath\u001b[0m\u001b[1;33m,\u001b[0m \u001b[0mflatten\u001b[0m\u001b[1;33m=\u001b[0m\u001b[1;32mTrue\u001b[0m\u001b[1;33m)\u001b[0m\u001b[1;33m.\u001b[0m\u001b[0mastype\u001b[0m\u001b[1;33m(\u001b[0m\u001b[0mint\u001b[0m\u001b[1;33m)\u001b[0m\u001b[1;33m\u001b[0m\u001b[1;33m\u001b[0m\u001b[0m\n\u001b[0;32m      7\u001b[0m   \u001b[1;31m# resizing returns float vals 0:255; convert to ints for downstream tasks\u001b[0m\u001b[1;33m\u001b[0m\u001b[1;33m\u001b[0m\u001b[1;33m\u001b[0m\u001b[0m\n\u001b[1;32m----> 8\u001b[1;33m \u001b[1;32mif\u001b[0m \u001b[0mnorm_size\u001b[0m\u001b[1;33m:\u001b[0m\u001b[1;33m\u001b[0m\u001b[1;33m\u001b[0m\u001b[0m\n\u001b[0m\u001b[0;32m      9\u001b[0m     \u001b[0mimg\u001b[0m \u001b[1;33m=\u001b[0m \u001b[0mresize\u001b[0m\u001b[1;33m(\u001b[0m\u001b[0mimg\u001b[0m\u001b[1;33m,\u001b[0m \u001b[1;33m(\u001b[0m\u001b[0mheight\u001b[0m\u001b[1;33m,\u001b[0m \u001b[0mwidth\u001b[0m\u001b[1;33m)\u001b[0m\u001b[1;33m,\u001b[0m \u001b[0manti_aliasing\u001b[0m\u001b[1;33m=\u001b[0m\u001b[1;32mTrue\u001b[0m\u001b[1;33m,\u001b[0m \u001b[0mpreserve_range\u001b[0m\u001b[1;33m=\u001b[0m\u001b[1;32mTrue\u001b[0m\u001b[1;33m)\u001b[0m\u001b[1;33m\u001b[0m\u001b[1;33m\u001b[0m\u001b[0m\n\u001b[0;32m     10\u001b[0m \u001b[1;32mif\u001b[0m \u001b[0mnorm_exposure\u001b[0m\u001b[1;33m:\u001b[0m\u001b[1;33m\u001b[0m\u001b[1;33m\u001b[0m\u001b[0m\n",
      "\u001b[1;31mNameError\u001b[0m: name 'norm_size' is not defined"
     ]
    }
   ],
   "source": [
    "\n",
    "def get_img(path, norm_size=True, norm_exposure=False):\n",
    "\n",
    "#Prepare an image for image processing tasks\n",
    "\n",
    "  # flatten returns a 2d grayscale array\n",
    "    img = imread(path, flatten=True).astype(int)\n",
    "  # resizing returns float vals 0:255; convert to ints for downstream tasks\n",
    "if norm_size:\n",
    "    img = resize(img, (height, width), anti_aliasing=True, preserve_range=True)\n",
    "if norm_exposure:\n",
    "    img = normalize_exposure(img)\n",
    "return img\n"
   ]
  },
  {
   "cell_type": "code",
   "execution_count": 21,
   "metadata": {},
   "outputs": [
    {
     "ename": "IndentationError",
     "evalue": "expected an indented block (<ipython-input-21-371a768cc034>, line 7)",
     "output_type": "error",
     "traceback": [
      "\u001b[1;36m  File \u001b[1;32m\"<ipython-input-21-371a768cc034>\"\u001b[1;36m, line \u001b[1;32m7\u001b[0m\n\u001b[1;33m    '''\u001b[0m\n\u001b[1;37m       \n^\u001b[0m\n\u001b[1;31mIndentationError\u001b[0m\u001b[1;31m:\u001b[0m expected an indented block\n"
     ]
    }
   ],
   "source": [
    "\n",
    "\n",
    "def get_histogram(img):\n",
    "'''\n",
    "  Get the histogram of an image. For an 8-bit, grayscale image, the\n",
    "  histogram will be a 256 unit vector in which the nth value indicates\n",
    "  the percent of the pixels in the image with the given darkness level.\n",
    "  The histogram's values sum to 1.\n",
    "  '''\n",
    "  h, w = img.shape\n",
    "hist = [0.0] * 256\n",
    "  for i in range(h):\n",
    "    for j in range(w):\n",
    "    hist[img[i, j]] += 1\n",
    "return np.array(hist) / (h * w) \n"
   ]
  },
  {
   "cell_type": "code",
   "execution_count": 22,
   "metadata": {},
   "outputs": [
    {
     "ename": "IndentationError",
     "evalue": "unexpected indent (<ipython-input-22-1b9171ade1e9>, line 13)",
     "output_type": "error",
     "traceback": [
      "\u001b[1;36m  File \u001b[1;32m\"<ipython-input-22-1b9171ade1e9>\"\u001b[1;36m, line \u001b[1;32m13\u001b[0m\n\u001b[1;33m    normalized = np.zeros_like(img)\u001b[0m\n\u001b[1;37m    ^\u001b[0m\n\u001b[1;31mIndentationError\u001b[0m\u001b[1;31m:\u001b[0m unexpected indent\n"
     ]
    }
   ],
   "source": [
    "\n",
    "def normalize_exposure(img):\n",
    "\n",
    "# Normalize the exposure of an image.\n",
    "\n",
    "    img = img.astype(int)\n",
    "hist = get_histogram(img)\n",
    "  # get the sum of vals accumulated by each position in hist\n",
    "cdf = np.array([sum(hist[:i+1]) for i in range(len(hist))])\n",
    "  # determine the normalization values for each unit of the cdf\n",
    "sk = np.uint8(255 * cdf)\n",
    "    # normalize each position in the output image\n",
    "height, width = img.shape\n",
    "  normalized = np.zeros_like(img)\n",
    "for i in range(0, height):\n",
    "    for j in range(0, width):\n",
    "    normalized[i, j] = sk[img[i, j]]\n",
    "return normalized.astype(int)\n"
   ]
  },
  {
   "cell_type": "code",
   "execution_count": 5,
   "metadata": {},
   "outputs": [],
   "source": [
    "\n",
    "\n",
    "def earth_movers_distance(path_a, path_b):\n",
    "'''\n",
    "  Measure the Earth Mover's distance between two images\n",
    "  @args:\n",
    "    {str} path_a: the path to an image file\n",
    "    {str} path_b: the path to an image file\n",
    "  @returns:\n",
    "    TODO\n",
    "  '''\n",
    "img_a = get_img(path_a, norm_exposure=True)\n",
    "img_b = get_img(path_b, norm_exposure=True)\n",
    "hist_a = get_histogram(img_a)\n",
    "hist_b = get_histogram(img_b)\n",
    "  return wasserstein_distance(hist_a, hist_b)\n"
   ]
  },
  {
   "cell_type": "code",
   "execution_count": 10,
   "metadata": {},
   "outputs": [
    {
     "ename": "SyntaxError",
     "evalue": "invalid syntax (<ipython-input-10-e3b998c7207e>, line 1)",
     "output_type": "error",
     "traceback": [
      "\u001b[1;36m  File \u001b[1;32m\"<ipython-input-10-e3b998c7207e>\"\u001b[1;36m, line \u001b[1;32m1\u001b[0m\n\u001b[1;33m    def structural_sim(path_a, path_b)\u001b[0m\n\u001b[1;37m                                        ^\u001b[0m\n\u001b[1;31mSyntaxError\u001b[0m\u001b[1;31m:\u001b[0m invalid syntax\n"
     ]
    }
   ],
   "source": [
    "def structural_sim(path_a, path_b):\n",
    "'''\n",
    "  Measure the structural similarity between two images\n",
    "  @args:\n",
    "    {str} path_a: the path to an image file\n",
    "    {str} path_b: the path to an image file\n",
    "  @returns:\n",
    "    {float} a float {-1:1} that measures structural similarity\n",
    "      between the input images\n",
    "'''\n",
    "img_a = get_img(path_a)\n",
    "img_b = get_img(path_b)\n",
    "  sim, diff = compare_ssim(img_a, img_b, full=True)\n",
    "return sim\n",
    "\n",
    "\n"
   ]
  },
  {
   "cell_type": "code",
   "execution_count": 7,
   "metadata": {},
   "outputs": [
    {
     "ename": "IndentationError",
     "evalue": "expected an indented block (<ipython-input-7-92f72db2c977>, line 10)",
     "output_type": "error",
     "traceback": [
      "\u001b[1;36m  File \u001b[1;32m\"<ipython-input-7-92f72db2c977>\"\u001b[1;36m, line \u001b[1;32m10\u001b[0m\n\u001b[1;33m    '''\u001b[0m\n\u001b[1;37m       \n^\u001b[0m\n\u001b[1;31mIndentationError\u001b[0m\u001b[1;31m:\u001b[0m expected an indented block\n"
     ]
    }
   ],
   "source": [
    "def pixel_sim(path_a, path_b):\n",
    "'''\n",
    "  Measure the pixel-level similarity between two images\n",
    "  @args:\n",
    "    {str} path_a: the path to an image file\n",
    "    {str} path_b: the path to an image file\n",
    "  @returns:\n",
    "    {float} a float {-1:1} that measures structural similarity\n",
    "      between the input images\n",
    "'''\n",
    "img_a = get_img(path_a, norm_exposure=True)\n",
    "img_b = get_img(path_b, norm_exposure=True)\n",
    "  return np.sum(np.absolute(img_a - img_b)) / (height*width) / 255\n"
   ]
  },
  {
   "cell_type": "code",
   "execution_count": 9,
   "metadata": {},
   "outputs": [
    {
     "ename": "IndentationError",
     "evalue": "unindent does not match any outer indentation level (<tokenize>, line 29)",
     "output_type": "error",
     "traceback": [
      "\u001b[1;36m  File \u001b[1;32m\"<tokenize>\"\u001b[1;36m, line \u001b[1;32m29\u001b[0m\n\u001b[1;33m    return len(similar_regions) / len(matches)\u001b[0m\n\u001b[1;37m    ^\u001b[0m\n\u001b[1;31mIndentationError\u001b[0m\u001b[1;31m:\u001b[0m unindent does not match any outer indentation level\n"
     ]
    }
   ],
   "source": [
    "\n",
    "def sift_sim(path_a, path_b):\n",
    "'''\n",
    "  Use SIFT features to measure image similarity\n",
    "  @args:\n",
    "    {str} path_a: the path to an image file\n",
    "    {str} path_b: the path to an image file\n",
    "  @returns:\n",
    "    TODO\n",
    "  '''\n",
    "  # initialize the sift feature detector\n",
    "orb = cv2.ORB_create()\n",
    "\n",
    "  # get the images\n",
    "img_a = cv2.imread(path_a)\n",
    "img_b = cv2.imread(path_b)\n",
    "\n",
    "  # find the keypoints and descriptors with SIFT\n",
    "kp_a, desc_a = orb.detectAndCompute(img_a, None)\n",
    "kp_b, desc_b = orb.detectAndCompute(img_b, None)\n",
    "\n",
    "  # initialize the bruteforce matcher\n",
    "bf = cv2.BFMatcher(cv2.NORM_HAMMING, crossCheck=True)\n",
    "\n",
    "  # match.distance is a float between {0:100} - lower means more similar\n",
    "matches = bf.match(desc_a, desc_b)\n",
    "similar_regions = [i for i in matches if i.distance < 70]\n",
    "if len(matches) == 0:\n",
    "    return 0\n",
    "  return len(similar_regions) / len(matches)\n",
    "\n"
   ]
  },
  {
   "cell_type": "code",
   "execution_count": 23,
   "metadata": {},
   "outputs": [
    {
     "ename": "IndentationError",
     "evalue": "expected an indented block (<ipython-input-23-56ec92a66dce>, line 2)",
     "output_type": "error",
     "traceback": [
      "\u001b[1;36m  File \u001b[1;32m\"<ipython-input-23-56ec92a66dce>\"\u001b[1;36m, line \u001b[1;32m2\u001b[0m\n\u001b[1;33m    img_a = 'a.jpg'\u001b[0m\n\u001b[1;37m        ^\u001b[0m\n\u001b[1;31mIndentationError\u001b[0m\u001b[1;31m:\u001b[0m expected an indented block\n"
     ]
    }
   ],
   "source": [
    "\n",
    "if __name__ == '__main__':\n",
    "    img_a = 'a.jpg'\n",
    "    img_b = 'b.jpg'\n",
    "# get the similarity values\n",
    "structural_sim = structural_sim(img_a, img_b)\n",
    "pixel_sim = pixel_sim(img_a, img_b)\n",
    "sift_sim = sift_sim(img_a, img_b)\n",
    "emd = earth_movers_distance(img_a, img_b)\n",
    "print(structural_sim, pixel_sim, sift_sim, emd)"
   ]
  },
  {
   "cell_type": "code",
   "execution_count": null,
   "metadata": {},
   "outputs": [],
   "source": []
  }
 ],
 "metadata": {
  "kernelspec": {
   "display_name": "Python 3",
   "language": "python",
   "name": "python3"
  },
  "language_info": {
   "codemirror_mode": {
    "name": "ipython",
    "version": 3
   },
   "file_extension": ".py",
   "mimetype": "text/x-python",
   "name": "python",
   "nbconvert_exporter": "python",
   "pygments_lexer": "ipython3",
   "version": "3.7.4"
  }
 },
 "nbformat": 4,
 "nbformat_minor": 2
}
