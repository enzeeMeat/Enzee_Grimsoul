{
 "cells": [
  {
   "cell_type": "code",
   "execution_count": 4,
   "metadata": {},
   "outputs": [
    {
     "name": "stdout",
     "output_type": "stream",
     "text": [
      "Collecting itertools\n",
      "Note: you may need to restart the kernel to use updated packages.\n"
     ]
    },
    {
     "name": "stderr",
     "output_type": "stream",
     "text": [
      "  ERROR: Could not find a version that satisfies the requirement itertools (from versions: none)\n",
      "ERROR: No matching distribution found for itertools\n"
     ]
    }
   ],
   "source": [
    "pip install itertools"
   ]
  },
  {
   "cell_type": "code",
   "execution_count": 5,
   "metadata": {},
   "outputs": [],
   "source": [
    "import sys\n",
    "\n",
    "try:\n",
    "    from itertools import izip as zip\n",
    "except ImportError: # will be 3.x series\n",
    "    pass\n",
    "\n"
   ]
  },
  {
   "cell_type": "code",
   "execution_count": 26,
   "metadata": {},
   "outputs": [],
   "source": [
    "\n",
    "\n",
    "class ScanImage:\n",
    "      def __init__(self, image, template, process='sad'):\n",
    "        self.image = image \n",
    "        self.temp = template\n",
    "        self.pro = process #sad or ssd \n",
    "        self.x_axis_leng = len(image[0]) - len(template[0]) # how far to scan on x axis of image\n",
    "        self.y_axis_hgt = len(image) - len(template) # how far to scan on y axis\n",
    "        self.best_location = list() # will hold the coordinates of the final location \n",
    "        self.score = sys.maxint # similarity strength score (the less the better)\n",
    "        self.temp_matrix_holder = list() # holds a matrix of the same size as the template\n",
    "        self.calculate = ImageCalculation() # class that is used to calculate strength score using ssd or sad \n",
    "\n",
    "      def _empty_list(self):\n",
    "            del self.temp_matrix_holder[:]\n",
    "\n",
    "      def run(self):\n",
    "            return self._scan_image(self.image, self.temp, self.pro)\n",
    "\n",
    "      def _scan_image(self, image, template, process):\n",
    "        \"\"\"main function: will iterate over the image one pixel at a time\"\"\"\n",
    "\n",
    "        for i in xrange(len(image)):\n",
    "              for j in xrange(len(image[i])):\n",
    "                    if (j <= self.x_axis_leng) and \\\n",
    "                      (i <= self.y_axis_hgt):\n",
    "\n",
    "                      self.temp_matrix_holder.append(\\\n",
    "                        image[i][j:j+len(template[0])])\n",
    "\n",
    "                      self.temp_matrix_holder.append(\\\n",
    "                        image[i + 1][j:j+len(template[0])])\n",
    "\n",
    "\n",
    "\n",
    "              new_score = self.calculate.run(\\\n",
    "                self.temp_matrix_holder, self.temp, process)\n",
    "\n",
    "\n",
    "              if new_score <= self.score:\n",
    "                self.score = new_score\n",
    "                self.best_location = [j, i]\n",
    "\n",
    "        self._empty_list()\n",
    "\n",
    "        return self.score, self.best_location"
   ]
  },
  {
   "cell_type": "code",
   "execution_count": 43,
   "metadata": {
    "scrolled": true
   },
   "outputs": [],
   "source": [
    "class ImageCalculation:\n",
    "    def __init__(self):\n",
    "        self.score = 0.0\n",
    "\n",
    "    def _reset_score(self):\n",
    "        self.score = 0.0\n",
    "\n",
    "    def _minus(self, atuple):\n",
    "        return abs(atuple[0]-atuple[1])\n",
    "\n",
    "    def _sad(self, atuple):\n",
    "        \"\"\"sum of absolute difference\"\"\" \n",
    "\n",
    "    # this is not nessesary but keeps the code a little neater \n",
    "    # and also shows the explicit difference between sad and ssd\n",
    "        return self._minus(atuple)\n",
    "\n",
    "    def _ssd(self, atuple):\n",
    "        \"\"\"sum of squared difference\"\"\"\n",
    "\n",
    "        diff = self._minus(atuple)\n",
    "        return diff * diff \n",
    "\n",
    "    def _block_template_comparison(self, image_block, template, process):\n",
    "\n",
    "        if (len(image_block) != len(template)) or \\\n",
    "            (len(image_block[0]) != len(template[0])):\n",
    "\n",
    "            return 'Error'\n",
    "\n",
    "        for i in xrange(len(image_block)):\n",
    "            for j in xrange(len(image_block[i])):\n",
    "                one_pixel_score = 0.0\n",
    "                for k in izip(image_block[i][j], template[i][j]):\n",
    "\n",
    "                        if process == 'sad':\n",
    "                            one_pixel_score += self._sad(k)\n",
    "\n",
    "                        elif process == 'ssd':\n",
    "                            one_pixel_score += self._ssd(k)\n",
    "\n",
    "\n",
    "                self.score += (one_pixel_score/3.0) # average out all 3 (RGB) channels for each pixle    \n",
    "\n",
    "                return self.score\n",
    "\n",
    "    def run(self, image_block, template, process='sad'):\n",
    "\n",
    "        if process == 'ssd':\n",
    "              process = 'ssd'\n",
    "        elif process == 'sad':\n",
    "              process = 'sad'\n",
    "        else:\n",
    "              raise ValueError('Proccess must be either sad or ssd')\n",
    "\n",
    "        if not self.score == 0.0:\n",
    "              self._reset_score()\n",
    "\n",
    "        return self._block_template_comparison(image_block, template, process)"
   ]
  },
  {
   "cell_type": "code",
   "execution_count": 48,
   "metadata": {},
   "outputs": [
    {
     "ename": "IndentationError",
     "evalue": "unexpected indent (<ipython-input-48-d74698ca4eb3>, line 10)",
     "output_type": "error",
     "traceback": [
      "\u001b[1;36m  File \u001b[1;32m\"<ipython-input-48-d74698ca4eb3>\"\u001b[1;36m, line \u001b[1;32m10\u001b[0m\n\u001b[1;33m    t_i = [\u001b[0m\n\u001b[1;37m    ^\u001b[0m\n\u001b[1;31mIndentationError\u001b[0m\u001b[1;31m:\u001b[0m unexpected indent\n"
     ]
    }
   ],
   "source": [
    "if __name__ == '__main__':\n",
    "\n",
    "      p_i = [\n",
    "          [[0], [1], [2], [10]],\n",
    "          [[3], [4], [5], [11]],\n",
    "          [[6], [7], [8], [12]],\n",
    "          ]\n",
    "\n",
    "\n",
    "      t_i = [ \n",
    "            [[4], [5]],\n",
    "            [[7], [12]],\n",
    "            ]\n",
    "\n",
    "\n",
    "      s = ScanImage(p_i, t_i)\n",
    "\n",
    "print s.run()\n",
    "\n",
    "\n",
    "  # ssd outputs : 5.333 (sength score), [1,1] (x, y coords)\n",
    "  # sad outputs : 1.3333, [1, 1] "
   ]
  },
  {
   "cell_type": "code",
   "execution_count": null,
   "metadata": {},
   "outputs": [],
   "source": []
  }
 ],
 "metadata": {
  "kernelspec": {
   "display_name": "Python 3",
   "language": "python",
   "name": "python3"
  },
  "language_info": {
   "codemirror_mode": {
    "name": "ipython",
    "version": 3
   },
   "file_extension": ".py",
   "mimetype": "text/x-python",
   "name": "python",
   "nbconvert_exporter": "python",
   "pygments_lexer": "ipython3",
   "version": "3.7.4"
  }
 },
 "nbformat": 4,
 "nbformat_minor": 2
}
